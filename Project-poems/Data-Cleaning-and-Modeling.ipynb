{
 "cells": [
  {
   "cell_type": "markdown",
   "metadata": {},
   "source": [
    "# Predicting when a poem was written by it's style and word usage.\n",
    "\n",
    "One of the best things about data science is its versatility. You can do a data science project on just about anything. For this project I decided to see if a machine learning model can identify the era in which a poem was written by its word choice and frequency. If the era can be predicted, with what kind of accuracy? Also, are some eras more identifiable by style than others. These were the questions I sought to answer with this project. \n",
    "\n",
    "The model was able to differentiate between the different time periods and predict the poem's class with an 81% accuracy overall, with varying degrees of accuracy for specific classes. Going forward, I intend to engineer additional stylistic features related to word choice and frequency to make the model even more robust. \n",
    "#### Getting Data:\n",
    "The first step this project required was data collection. It's really nice to be handed a clean data set for a project, but life doesn't always work that way. Data collection can be quite challenging, but can also be quite fun. After searching fruitlessly for a corpus of poetry in a digital text format, there was no choice but to explore other options. Enter webscraping, a cool, fun, and exciting way to collect data. Webscraping is the process of pulling information from web pages, which often contain all their text in the HTML code which dictates the website's structure. Python, the language that I used for all of this analysis, has some packages that enable efficient webscraping. The code for my webscraper is available in the notebook entitled 'Webscraper'.\n",
    "#### Data Cleaning:\n",
    "A large portion of this project involved the data cleaning process. For example, since I scraped the data from a website, I first had to remove all the HTML tags and ensure that doing that didn't push the lines of the poem together, which would cause some word loss. \n",
    "\n",
    "When analyzing text, a lot of preprocessing is necessary. A computer doesn't read text the way we do, so it would treat 'Cookies' and 'cookies' as two different words. Generally, we convert all our entries to lowercase so that the computer can recognize them. I also had to remove all the punctuation and numbers. \n",
    "#### Classes:\n",
    "I settled on three different eras to model, the 18th, 19th, and 20th centuries. These are arbitrary boundaries that mean something to us, but I was curious to discover if there is a significant difference in poetry style on each side of these boundaries. \n",
    "#### Feature Creation and Modeling:\n",
    "There are a few different approaches for creating features from text. I used the most common one, a Count Vectorizer. This approach, sometimes called a 'bag of words,' creates a separate feature for each word that appears in the data set. Then, for each poem, it assigns a '1' to words that the poem contains, and a '0' to words that it doesn't. There are more complex approaches, but a simple Count Vectorizer worked best for my data. That makes sense, because a simple count of word usage and frequency may give a better representation of text style than more complex methods that aren't looking for style as much as content. \n",
    "\n",
    "I used a Multinomial Naive Bayes model to distinguish between and predict the classes. This model treats all the features as having a multinomial distribution and assumes independence of all the features. I ran many other models as well, and the Multinomial Naive Bayes consistently performed the best. This model comes with a great feature which returns the log probability of each feature belonging to each class. This gives us some insight into which words are most related to which classes. \n",
    "#### Results:\n",
    "The model performed well, giving an overall accuracy score of 81%, which means the model accurately predicted the era of 81% of the observations it had not before seen. This demonstrates the efficacy of this type of modeling in general, as well as the answers the question central to this project. A computer **CAN** differentiate between different poetry styles and predict the era of poems. The model performed best on the 18th century, correctly identifying 91% of observations. It did not perform as well for the 19th and 20th centuries, with 72% and 81% accuracy scores, respectively. Immediately below is an image showing the percentages of true predictions for each class, and the percentages which were misclassified. Further below I will elaborate on the scores for each class and point out specific words that were strong indicators of a class. "
   ]
  },
  {
   "cell_type": "markdown",
   "metadata": {},
   "source": [
    "![confusion_matrix](confusion_matrix.png)"
   ]
  },
  {
   "cell_type": "markdown",
   "metadata": {},
   "source": [
    "**Imports and reading in the file.**"
   ]
  },
  {
   "cell_type": "code",
   "execution_count": 1,
   "metadata": {
    "collapsed": true
   },
   "outputs": [],
   "source": [
    "import numpy as np\n",
    "import pandas as pd\n",
    "import string\n",
    "import re\n",
    "import matplotlib.pyplot as plt\n",
    "from sklearn.naive_bayes import MultinomialNB, BernoulliNB, GaussianNB\n",
    "from sklearn.svm import LinearSVC\n",
    "from sklearn.ensemble import RandomForestClassifier\n",
    "from sklearn.linear_model import LogisticRegression\n",
    "from sklearn.feature_extraction.text import CountVectorizer, TfidfVectorizer\n",
    "from sklearn.feature_selection import chi2, SelectKBest\n",
    "from sklearn.model_selection import train_test_split, cross_val_score\n",
    "from sklearn.metrics import confusion_matrix, classification_report\n",
    "from xgboost import XGBClassifier\n",
    "import itertools\n",
    "%matplotlib inline\n",
    "%config InlineBackend.figure_format = 'retina'"
   ]
  },
  {
   "cell_type": "code",
   "execution_count": 2,
   "metadata": {},
   "outputs": [
    {
     "ename": "IOError",
     "evalue": "File all_poets.csv does not exist",
     "output_type": "error",
     "traceback": [
      "\u001b[0;31m---------------------------------------------------------------------------\u001b[0m",
      "\u001b[0;31mIOError\u001b[0m                                   Traceback (most recent call last)",
      "\u001b[0;32m<ipython-input-2-cfed421dbb10>\u001b[0m in \u001b[0;36m<module>\u001b[0;34m()\u001b[0m\n\u001b[0;32m----> 1\u001b[0;31m \u001b[0mdf\u001b[0m \u001b[0;34m=\u001b[0m \u001b[0mpd\u001b[0m\u001b[0;34m.\u001b[0m\u001b[0mread_csv\u001b[0m\u001b[0;34m(\u001b[0m\u001b[0;34m'all_poets.csv'\u001b[0m\u001b[0;34m,\u001b[0m \u001b[0mnames\u001b[0m\u001b[0;34m=\u001b[0m\u001b[0;34m[\u001b[0m\u001b[0;34m'old_index'\u001b[0m\u001b[0;34m,\u001b[0m \u001b[0;34m'poem'\u001b[0m\u001b[0;34m,\u001b[0m \u001b[0;34m'name'\u001b[0m\u001b[0;34m]\u001b[0m\u001b[0;34m,\u001b[0m \u001b[0mheader\u001b[0m\u001b[0;34m=\u001b[0m\u001b[0;36m0\u001b[0m\u001b[0;34m)\u001b[0m\u001b[0;34m\u001b[0m\u001b[0m\n\u001b[0m\u001b[1;32m      2\u001b[0m \u001b[0mdf\u001b[0m\u001b[0;34m.\u001b[0m\u001b[0mhead\u001b[0m\u001b[0;34m(\u001b[0m\u001b[0;36m2\u001b[0m\u001b[0;34m)\u001b[0m\u001b[0;34m\u001b[0m\u001b[0m\n",
      "\u001b[0;32m/Users/chaimgluck/anaconda/lib/python2.7/site-packages/pandas/io/parsers.pyc\u001b[0m in \u001b[0;36mparser_f\u001b[0;34m(filepath_or_buffer, sep, delimiter, header, names, index_col, usecols, squeeze, prefix, mangle_dupe_cols, dtype, engine, converters, true_values, false_values, skipinitialspace, skiprows, nrows, na_values, keep_default_na, na_filter, verbose, skip_blank_lines, parse_dates, infer_datetime_format, keep_date_col, date_parser, dayfirst, iterator, chunksize, compression, thousands, decimal, lineterminator, quotechar, quoting, escapechar, comment, encoding, dialect, tupleize_cols, error_bad_lines, warn_bad_lines, skipfooter, skip_footer, doublequote, delim_whitespace, as_recarray, compact_ints, use_unsigned, low_memory, buffer_lines, memory_map, float_precision)\u001b[0m\n\u001b[1;32m    653\u001b[0m                     skip_blank_lines=skip_blank_lines)\n\u001b[1;32m    654\u001b[0m \u001b[0;34m\u001b[0m\u001b[0m\n\u001b[0;32m--> 655\u001b[0;31m         \u001b[0;32mreturn\u001b[0m \u001b[0m_read\u001b[0m\u001b[0;34m(\u001b[0m\u001b[0mfilepath_or_buffer\u001b[0m\u001b[0;34m,\u001b[0m \u001b[0mkwds\u001b[0m\u001b[0;34m)\u001b[0m\u001b[0;34m\u001b[0m\u001b[0m\n\u001b[0m\u001b[1;32m    656\u001b[0m \u001b[0;34m\u001b[0m\u001b[0m\n\u001b[1;32m    657\u001b[0m     \u001b[0mparser_f\u001b[0m\u001b[0;34m.\u001b[0m\u001b[0m__name__\u001b[0m \u001b[0;34m=\u001b[0m \u001b[0mname\u001b[0m\u001b[0;34m\u001b[0m\u001b[0m\n",
      "\u001b[0;32m/Users/chaimgluck/anaconda/lib/python2.7/site-packages/pandas/io/parsers.pyc\u001b[0m in \u001b[0;36m_read\u001b[0;34m(filepath_or_buffer, kwds)\u001b[0m\n\u001b[1;32m    403\u001b[0m \u001b[0;34m\u001b[0m\u001b[0m\n\u001b[1;32m    404\u001b[0m     \u001b[0;31m# Create the parser.\u001b[0m\u001b[0;34m\u001b[0m\u001b[0;34m\u001b[0m\u001b[0m\n\u001b[0;32m--> 405\u001b[0;31m     \u001b[0mparser\u001b[0m \u001b[0;34m=\u001b[0m \u001b[0mTextFileReader\u001b[0m\u001b[0;34m(\u001b[0m\u001b[0mfilepath_or_buffer\u001b[0m\u001b[0;34m,\u001b[0m \u001b[0;34m**\u001b[0m\u001b[0mkwds\u001b[0m\u001b[0;34m)\u001b[0m\u001b[0;34m\u001b[0m\u001b[0m\n\u001b[0m\u001b[1;32m    406\u001b[0m \u001b[0;34m\u001b[0m\u001b[0m\n\u001b[1;32m    407\u001b[0m     \u001b[0;32mif\u001b[0m \u001b[0mchunksize\u001b[0m \u001b[0;32mor\u001b[0m \u001b[0miterator\u001b[0m\u001b[0;34m:\u001b[0m\u001b[0;34m\u001b[0m\u001b[0m\n",
      "\u001b[0;32m/Users/chaimgluck/anaconda/lib/python2.7/site-packages/pandas/io/parsers.pyc\u001b[0m in \u001b[0;36m__init__\u001b[0;34m(self, f, engine, **kwds)\u001b[0m\n\u001b[1;32m    762\u001b[0m             \u001b[0mself\u001b[0m\u001b[0;34m.\u001b[0m\u001b[0moptions\u001b[0m\u001b[0;34m[\u001b[0m\u001b[0;34m'has_index_names'\u001b[0m\u001b[0;34m]\u001b[0m \u001b[0;34m=\u001b[0m \u001b[0mkwds\u001b[0m\u001b[0;34m[\u001b[0m\u001b[0;34m'has_index_names'\u001b[0m\u001b[0;34m]\u001b[0m\u001b[0;34m\u001b[0m\u001b[0m\n\u001b[1;32m    763\u001b[0m \u001b[0;34m\u001b[0m\u001b[0m\n\u001b[0;32m--> 764\u001b[0;31m         \u001b[0mself\u001b[0m\u001b[0;34m.\u001b[0m\u001b[0m_make_engine\u001b[0m\u001b[0;34m(\u001b[0m\u001b[0mself\u001b[0m\u001b[0;34m.\u001b[0m\u001b[0mengine\u001b[0m\u001b[0;34m)\u001b[0m\u001b[0;34m\u001b[0m\u001b[0m\n\u001b[0m\u001b[1;32m    765\u001b[0m \u001b[0;34m\u001b[0m\u001b[0m\n\u001b[1;32m    766\u001b[0m     \u001b[0;32mdef\u001b[0m \u001b[0mclose\u001b[0m\u001b[0;34m(\u001b[0m\u001b[0mself\u001b[0m\u001b[0;34m)\u001b[0m\u001b[0;34m:\u001b[0m\u001b[0;34m\u001b[0m\u001b[0m\n",
      "\u001b[0;32m/Users/chaimgluck/anaconda/lib/python2.7/site-packages/pandas/io/parsers.pyc\u001b[0m in \u001b[0;36m_make_engine\u001b[0;34m(self, engine)\u001b[0m\n\u001b[1;32m    983\u001b[0m     \u001b[0;32mdef\u001b[0m \u001b[0m_make_engine\u001b[0m\u001b[0;34m(\u001b[0m\u001b[0mself\u001b[0m\u001b[0;34m,\u001b[0m \u001b[0mengine\u001b[0m\u001b[0;34m=\u001b[0m\u001b[0;34m'c'\u001b[0m\u001b[0;34m)\u001b[0m\u001b[0;34m:\u001b[0m\u001b[0;34m\u001b[0m\u001b[0m\n\u001b[1;32m    984\u001b[0m         \u001b[0;32mif\u001b[0m \u001b[0mengine\u001b[0m \u001b[0;34m==\u001b[0m \u001b[0;34m'c'\u001b[0m\u001b[0;34m:\u001b[0m\u001b[0;34m\u001b[0m\u001b[0m\n\u001b[0;32m--> 985\u001b[0;31m             \u001b[0mself\u001b[0m\u001b[0;34m.\u001b[0m\u001b[0m_engine\u001b[0m \u001b[0;34m=\u001b[0m \u001b[0mCParserWrapper\u001b[0m\u001b[0;34m(\u001b[0m\u001b[0mself\u001b[0m\u001b[0;34m.\u001b[0m\u001b[0mf\u001b[0m\u001b[0;34m,\u001b[0m \u001b[0;34m**\u001b[0m\u001b[0mself\u001b[0m\u001b[0;34m.\u001b[0m\u001b[0moptions\u001b[0m\u001b[0;34m)\u001b[0m\u001b[0;34m\u001b[0m\u001b[0m\n\u001b[0m\u001b[1;32m    986\u001b[0m         \u001b[0;32melse\u001b[0m\u001b[0;34m:\u001b[0m\u001b[0;34m\u001b[0m\u001b[0m\n\u001b[1;32m    987\u001b[0m             \u001b[0;32mif\u001b[0m \u001b[0mengine\u001b[0m \u001b[0;34m==\u001b[0m \u001b[0;34m'python'\u001b[0m\u001b[0;34m:\u001b[0m\u001b[0;34m\u001b[0m\u001b[0m\n",
      "\u001b[0;32m/Users/chaimgluck/anaconda/lib/python2.7/site-packages/pandas/io/parsers.pyc\u001b[0m in \u001b[0;36m__init__\u001b[0;34m(self, src, **kwds)\u001b[0m\n\u001b[1;32m   1603\u001b[0m         \u001b[0mkwds\u001b[0m\u001b[0;34m[\u001b[0m\u001b[0;34m'allow_leading_cols'\u001b[0m\u001b[0;34m]\u001b[0m \u001b[0;34m=\u001b[0m \u001b[0mself\u001b[0m\u001b[0;34m.\u001b[0m\u001b[0mindex_col\u001b[0m \u001b[0;32mis\u001b[0m \u001b[0;32mnot\u001b[0m \u001b[0mFalse\u001b[0m\u001b[0;34m\u001b[0m\u001b[0m\n\u001b[1;32m   1604\u001b[0m \u001b[0;34m\u001b[0m\u001b[0m\n\u001b[0;32m-> 1605\u001b[0;31m         \u001b[0mself\u001b[0m\u001b[0;34m.\u001b[0m\u001b[0m_reader\u001b[0m \u001b[0;34m=\u001b[0m \u001b[0mparsers\u001b[0m\u001b[0;34m.\u001b[0m\u001b[0mTextReader\u001b[0m\u001b[0;34m(\u001b[0m\u001b[0msrc\u001b[0m\u001b[0;34m,\u001b[0m \u001b[0;34m**\u001b[0m\u001b[0mkwds\u001b[0m\u001b[0;34m)\u001b[0m\u001b[0;34m\u001b[0m\u001b[0m\n\u001b[0m\u001b[1;32m   1606\u001b[0m \u001b[0;34m\u001b[0m\u001b[0m\n\u001b[1;32m   1607\u001b[0m         \u001b[0;31m# XXX\u001b[0m\u001b[0;34m\u001b[0m\u001b[0;34m\u001b[0m\u001b[0m\n",
      "\u001b[0;32mpandas/_libs/parsers.pyx\u001b[0m in \u001b[0;36mpandas._libs.parsers.TextReader.__cinit__ (pandas/_libs/parsers.c:4209)\u001b[0;34m()\u001b[0m\n",
      "\u001b[0;32mpandas/_libs/parsers.pyx\u001b[0m in \u001b[0;36mpandas._libs.parsers.TextReader._setup_parser_source (pandas/_libs/parsers.c:8873)\u001b[0;34m()\u001b[0m\n",
      "\u001b[0;31mIOError\u001b[0m: File all_poets.csv does not exist"
     ]
    }
   ],
   "source": [
    "df = pd.read_csv('all_poets.csv', names=['old_index', 'poem', 'name'], header=0)\n",
    "df.head(2)"
   ]
  },
  {
   "cell_type": "code",
   "execution_count": 4,
   "metadata": {},
   "outputs": [
    {
     "data": {
      "text/html": [
       "<div>\n",
       "<style>\n",
       "    .dataframe thead tr:only-child th {\n",
       "        text-align: right;\n",
       "    }\n",
       "\n",
       "    .dataframe thead th {\n",
       "        text-align: left;\n",
       "    }\n",
       "\n",
       "    .dataframe tbody tr th {\n",
       "        vertical-align: top;\n",
       "    }\n",
       "</style>\n",
       "<table border=\"1\" class=\"dataframe\">\n",
       "  <thead>\n",
       "    <tr style=\"text-align: right;\">\n",
       "      <th></th>\n",
       "      <th>poem</th>\n",
       "      <th>name</th>\n",
       "    </tr>\n",
       "  </thead>\n",
       "  <tbody>\n",
       "    <tr>\n",
       "      <th>0</th>\n",
       "      <td>&lt;div style=\"padding-left:14px;padding-top:20px...</td>\n",
       "      <td>by Rebecca Elson</td>\n",
       "    </tr>\n",
       "    <tr>\n",
       "      <th>1</th>\n",
       "      <td>&lt;div style=\"padding-left:14px;padding-top:20px...</td>\n",
       "      <td>by Rebecca Elson</td>\n",
       "    </tr>\n",
       "  </tbody>\n",
       "</table>\n",
       "</div>"
      ],
      "text/plain": [
       "                                                poem              name\n",
       "0  <div style=\"padding-left:14px;padding-top:20px...  by Rebecca Elson\n",
       "1  <div style=\"padding-left:14px;padding-top:20px...  by Rebecca Elson"
      ]
     },
     "execution_count": 4,
     "metadata": {},
     "output_type": "execute_result"
    }
   ],
   "source": [
    "df.drop('old_index', axis=1, inplace=True)\n",
    "df.head(2)"
   ]
  },
  {
   "cell_type": "markdown",
   "metadata": {},
   "source": [
    "**Data cleaning commences!**  \n",
    "\n",
    "Each poem is still wrapped in the HTML tags from its web page. The BeautifulSoup library has a function to select the text from page, but in this situation, that caused words to be joined together. I elected to clean the data myself with Python. It was a lengthier process, but one that I felt worthwhile given the importance of each word. "
   ]
  },
  {
   "cell_type": "code",
   "execution_count": 5,
   "metadata": {},
   "outputs": [
    {
     "data": {
      "text/html": [
       "<div>\n",
       "<style>\n",
       "    .dataframe thead tr:only-child th {\n",
       "        text-align: right;\n",
       "    }\n",
       "\n",
       "    .dataframe thead th {\n",
       "        text-align: left;\n",
       "    }\n",
       "\n",
       "    .dataframe tbody tr th {\n",
       "        vertical-align: top;\n",
       "    }\n",
       "</style>\n",
       "<table border=\"1\" class=\"dataframe\">\n",
       "  <thead>\n",
       "    <tr style=\"text-align: right;\">\n",
       "      <th></th>\n",
       "      <th>poem</th>\n",
       "      <th>name</th>\n",
       "    </tr>\n",
       "  </thead>\n",
       "  <tbody>\n",
       "    <tr>\n",
       "      <th>0</th>\n",
       "      <td>&lt;div style=\"padding-left:14px;padding-top:20px...</td>\n",
       "      <td>Rebecca Elson</td>\n",
       "    </tr>\n",
       "    <tr>\n",
       "      <th>1</th>\n",
       "      <td>&lt;div style=\"padding-left:14px;padding-top:20px...</td>\n",
       "      <td>Rebecca Elson</td>\n",
       "    </tr>\n",
       "    <tr>\n",
       "      <th>2</th>\n",
       "      <td>&lt;div style=\"padding-left:14px;padding-top:20px...</td>\n",
       "      <td>James Thomson</td>\n",
       "    </tr>\n",
       "  </tbody>\n",
       "</table>\n",
       "</div>"
      ],
      "text/plain": [
       "                                                poem           name\n",
       "0  <div style=\"padding-left:14px;padding-top:20px...  Rebecca Elson\n",
       "1  <div style=\"padding-left:14px;padding-top:20px...  Rebecca Elson\n",
       "2  <div style=\"padding-left:14px;padding-top:20px...  James Thomson"
      ]
     },
     "execution_count": 5,
     "metadata": {},
     "output_type": "execute_result"
    }
   ],
   "source": [
    "df.name = df.name.apply(lambda x: x.replace('by ', ''))\n",
    "df.head(3)"
   ]
  },
  {
   "cell_type": "code",
   "execution_count": 6,
   "metadata": {},
   "outputs": [
    {
     "data": {
      "text/html": [
       "<div>\n",
       "<style>\n",
       "    .dataframe thead tr:only-child th {\n",
       "        text-align: right;\n",
       "    }\n",
       "\n",
       "    .dataframe thead th {\n",
       "        text-align: left;\n",
       "    }\n",
       "\n",
       "    .dataframe tbody tr th {\n",
       "        vertical-align: top;\n",
       "    }\n",
       "</style>\n",
       "<table border=\"1\" class=\"dataframe\">\n",
       "  <thead>\n",
       "    <tr style=\"text-align: right;\">\n",
       "      <th></th>\n",
       "      <th>poem</th>\n",
       "      <th>name</th>\n",
       "    </tr>\n",
       "  </thead>\n",
       "  <tbody>\n",
       "    <tr>\n",
       "      <th>0</th>\n",
       "      <td>[&lt;div style=\"padding-left:14px;padding-top:20p...</td>\n",
       "      <td>Rebecca Elson</td>\n",
       "    </tr>\n",
       "    <tr>\n",
       "      <th>1</th>\n",
       "      <td>[&lt;div style=\"padding-left:14px;padding-top:20p...</td>\n",
       "      <td>Rebecca Elson</td>\n",
       "    </tr>\n",
       "  </tbody>\n",
       "</table>\n",
       "</div>"
      ],
      "text/plain": [
       "                                                poem           name\n",
       "0  [<div style=\"padding-left:14px;padding-top:20p...  Rebecca Elson\n",
       "1  [<div style=\"padding-left:14px;padding-top:20p...  Rebecca Elson"
      ]
     },
     "execution_count": 6,
     "metadata": {},
     "output_type": "execute_result"
    }
   ],
   "source": [
    "df.poem = df.poem.apply(lambda x: x.split('<br/>'))\n",
    "df.head(2)"
   ]
  },
  {
   "cell_type": "code",
   "execution_count": 7,
   "metadata": {},
   "outputs": [
    {
     "data": {
      "text/html": [
       "<div>\n",
       "<style>\n",
       "    .dataframe thead tr:only-child th {\n",
       "        text-align: right;\n",
       "    }\n",
       "\n",
       "    .dataframe thead th {\n",
       "        text-align: left;\n",
       "    }\n",
       "\n",
       "    .dataframe tbody tr th {\n",
       "        vertical-align: top;\n",
       "    }\n",
       "</style>\n",
       "<table border=\"1\" class=\"dataframe\">\n",
       "  <thead>\n",
       "    <tr style=\"text-align: right;\">\n",
       "      <th></th>\n",
       "      <th>poem</th>\n",
       "      <th>name</th>\n",
       "      <th>last_line</th>\n",
       "      <th>first_line</th>\n",
       "    </tr>\n",
       "  </thead>\n",
       "  <tbody>\n",
       "    <tr>\n",
       "      <th>0</th>\n",
       "      <td>[&lt;div style=\"padding-left:14px;padding-top:20p...</td>\n",
       "      <td>Rebecca Elson</td>\n",
       "      <td>And only count things.</td>\n",
       "      <td>We astronomers are nomads,</td>\n",
       "    </tr>\n",
       "    <tr>\n",
       "      <th>1</th>\n",
       "      <td>[&lt;div style=\"padding-left:14px;padding-top:20p...</td>\n",
       "      <td>Rebecca Elson</td>\n",
       "      <td>That leaves the nape hairs leaping.</td>\n",
       "      <td>Having picked the final datum</td>\n",
       "    </tr>\n",
       "  </tbody>\n",
       "</table>\n",
       "</div>"
      ],
      "text/plain": [
       "                                                poem           name  \\\n",
       "0  [<div style=\"padding-left:14px;padding-top:20p...  Rebecca Elson   \n",
       "1  [<div style=\"padding-left:14px;padding-top:20p...  Rebecca Elson   \n",
       "\n",
       "                             last_line                     first_line  \n",
       "0               And only count things.     We astronomers are nomads,  \n",
       "1  That leaves the nape hairs leaping.  Having picked the final datum  "
      ]
     },
     "execution_count": 7,
     "metadata": {},
     "output_type": "execute_result"
    }
   ],
   "source": [
    "df['last_line'] = [x[-1].split('\\t')[0] for x in df.poem]\n",
    "df['first_line'] = df.poem.apply(lambda x: x[0].split('\\t')[-1])\n",
    "df.head(2)"
   ]
  },
  {
   "cell_type": "code",
   "execution_count": 8,
   "metadata": {},
   "outputs": [
    {
     "data": {
      "text/html": [
       "<div>\n",
       "<style>\n",
       "    .dataframe thead tr:only-child th {\n",
       "        text-align: right;\n",
       "    }\n",
       "\n",
       "    .dataframe thead th {\n",
       "        text-align: left;\n",
       "    }\n",
       "\n",
       "    .dataframe tbody tr th {\n",
       "        vertical-align: top;\n",
       "    }\n",
       "</style>\n",
       "<table border=\"1\" class=\"dataframe\">\n",
       "  <thead>\n",
       "    <tr style=\"text-align: right;\">\n",
       "      <th></th>\n",
       "      <th>poem</th>\n",
       "      <th>name</th>\n",
       "      <th>last_line</th>\n",
       "      <th>first_line</th>\n",
       "    </tr>\n",
       "  </thead>\n",
       "  <tbody>\n",
       "    <tr>\n",
       "      <th>0</th>\n",
       "      <td>[Merchants, circus people,, All the earth our ...</td>\n",
       "      <td>Rebecca Elson</td>\n",
       "      <td>And only count things.</td>\n",
       "      <td>We astronomers are nomads,</td>\n",
       "    </tr>\n",
       "    <tr>\n",
       "      <th>1</th>\n",
       "      <td>[From the universe, And fixed it in its column...</td>\n",
       "      <td>Rebecca Elson</td>\n",
       "      <td>That leaves the nape hairs leaping.</td>\n",
       "      <td>Having picked the final datum</td>\n",
       "    </tr>\n",
       "  </tbody>\n",
       "</table>\n",
       "</div>"
      ],
      "text/plain": [
       "                                                poem           name  \\\n",
       "0  [Merchants, circus people,, All the earth our ...  Rebecca Elson   \n",
       "1  [From the universe, And fixed it in its column...  Rebecca Elson   \n",
       "\n",
       "                             last_line                     first_line  \n",
       "0               And only count things.     We astronomers are nomads,  \n",
       "1  That leaves the nape hairs leaping.  Having picked the final datum  "
      ]
     },
     "execution_count": 8,
     "metadata": {},
     "output_type": "execute_result"
    }
   ],
   "source": [
    "df.poem = df.poem.apply(lambda x: x[1:])\n",
    "df.head(2)"
   ]
  },
  {
   "cell_type": "code",
   "execution_count": 9,
   "metadata": {},
   "outputs": [
    {
     "data": {
      "text/html": [
       "<div>\n",
       "<style>\n",
       "    .dataframe thead tr:only-child th {\n",
       "        text-align: right;\n",
       "    }\n",
       "\n",
       "    .dataframe thead th {\n",
       "        text-align: left;\n",
       "    }\n",
       "\n",
       "    .dataframe tbody tr th {\n",
       "        vertical-align: top;\n",
       "    }\n",
       "</style>\n",
       "<table border=\"1\" class=\"dataframe\">\n",
       "  <thead>\n",
       "    <tr style=\"text-align: right;\">\n",
       "      <th></th>\n",
       "      <th>poem</th>\n",
       "      <th>name</th>\n",
       "      <th>last_line</th>\n",
       "      <th>first_line</th>\n",
       "    </tr>\n",
       "  </thead>\n",
       "  <tbody>\n",
       "    <tr>\n",
       "      <th>0</th>\n",
       "      <td>[Merchants, circus people,, All the earth our ...</td>\n",
       "      <td>Rebecca Elson</td>\n",
       "      <td>And only count things.</td>\n",
       "      <td>We astronomers are nomads,</td>\n",
       "    </tr>\n",
       "    <tr>\n",
       "      <th>1</th>\n",
       "      <td>[From the universe, And fixed it in its column...</td>\n",
       "      <td>Rebecca Elson</td>\n",
       "      <td>That leaves the nape hairs leaping.</td>\n",
       "      <td>Having picked the final datum</td>\n",
       "    </tr>\n",
       "  </tbody>\n",
       "</table>\n",
       "</div>"
      ],
      "text/plain": [
       "                                                poem           name  \\\n",
       "0  [Merchants, circus people,, All the earth our ...  Rebecca Elson   \n",
       "1  [From the universe, And fixed it in its column...  Rebecca Elson   \n",
       "\n",
       "                             last_line                     first_line  \n",
       "0               And only count things.     We astronomers are nomads,  \n",
       "1  That leaves the nape hairs leaping.  Having picked the final datum  "
      ]
     },
     "execution_count": 9,
     "metadata": {},
     "output_type": "execute_result"
    }
   ],
   "source": [
    "df.poem = df.poem.apply(lambda x: x[0:-1])\n",
    "df.head(2)"
   ]
  },
  {
   "cell_type": "code",
   "execution_count": 10,
   "metadata": {},
   "outputs": [
    {
     "data": {
      "text/plain": [
       "'AS we rush, as we rush in the Train,     The trees and the houses go wheeling back,  But the starry heavens above the plain     Come flying on our track.   All the beautiful stars of the sky,     The silver doves of the forest of Night,  Over the dull earth swarm and fly,     Companions of our flight.   We will rush ever on without fear;     Let the goal be far, the flight be fleet!  For we carry the Heavens with us, dear,     While the Earth slips from our feet!'"
      ]
     },
     "execution_count": 10,
     "metadata": {},
     "output_type": "execute_result"
    }
   ],
   "source": [
    "df.poem = df.poem.apply(lambda x: ' '.join(x))\n",
    "df['full_poem'] = df.first_line + ' ' + df.poem + ' ' + df.last_line\n",
    "df.full_poem[7]"
   ]
  },
  {
   "cell_type": "code",
   "execution_count": 11,
   "metadata": {
    "collapsed": true
   },
   "outputs": [],
   "source": [
    "df.rename(columns={'poem':'poem_body'}, inplace=True)\n",
    "df.drop(['poem_body', 'last_line', 'first_line'], axis=1, inplace=True)\n",
    "df.to_csv('poems-cleaned.csv', index=False)"
   ]
  },
  {
   "cell_type": "code",
   "execution_count": 12,
   "metadata": {},
   "outputs": [
    {
     "data": {
      "text/html": [
       "<div>\n",
       "<style>\n",
       "    .dataframe thead tr:only-child th {\n",
       "        text-align: right;\n",
       "    }\n",
       "\n",
       "    .dataframe thead th {\n",
       "        text-align: left;\n",
       "    }\n",
       "\n",
       "    .dataframe tbody tr th {\n",
       "        vertical-align: top;\n",
       "    }\n",
       "</style>\n",
       "<table border=\"1\" class=\"dataframe\">\n",
       "  <thead>\n",
       "    <tr style=\"text-align: right;\">\n",
       "      <th></th>\n",
       "      <th>name</th>\n",
       "      <th>full_poem</th>\n",
       "    </tr>\n",
       "  </thead>\n",
       "  <tbody>\n",
       "    <tr>\n",
       "      <th>0</th>\n",
       "      <td>Rebecca Elson</td>\n",
       "      <td>We astronomers are nomads, Merchants, circus p...</td>\n",
       "    </tr>\n",
       "    <tr>\n",
       "      <th>1</th>\n",
       "      <td>Rebecca Elson</td>\n",
       "      <td>Having picked the final datum From the univers...</td>\n",
       "    </tr>\n",
       "  </tbody>\n",
       "</table>\n",
       "</div>"
      ],
      "text/plain": [
       "            name                                          full_poem\n",
       "0  Rebecca Elson  We astronomers are nomads, Merchants, circus p...\n",
       "1  Rebecca Elson  Having picked the final datum From the univers..."
      ]
     },
     "execution_count": 12,
     "metadata": {},
     "output_type": "execute_result"
    }
   ],
   "source": [
    "df.head(2)"
   ]
  },
  {
   "cell_type": "markdown",
   "metadata": {},
   "source": [
    "**Clean poems achieved!**\n",
    "\n",
    "On to the years for each poet."
   ]
  },
  {
   "cell_type": "code",
   "execution_count": 13,
   "metadata": {},
   "outputs": [
    {
     "data": {
      "text/html": [
       "<div>\n",
       "<style>\n",
       "    .dataframe thead tr:only-child th {\n",
       "        text-align: right;\n",
       "    }\n",
       "\n",
       "    .dataframe thead th {\n",
       "        text-align: left;\n",
       "    }\n",
       "\n",
       "    .dataframe tbody tr th {\n",
       "        vertical-align: top;\n",
       "    }\n",
       "</style>\n",
       "<table border=\"1\" class=\"dataframe\">\n",
       "  <thead>\n",
       "    <tr style=\"text-align: right;\">\n",
       "      <th></th>\n",
       "      <th>name</th>\n",
       "      <th>number</th>\n",
       "      <th>years</th>\n",
       "    </tr>\n",
       "  </thead>\n",
       "  <tbody>\n",
       "    <tr>\n",
       "      <th>0</th>\n",
       "      <td>Maya Angelou</td>\n",
       "      <td>18)</td>\n",
       "      <td>1928 - present)</td>\n",
       "    </tr>\n",
       "    <tr>\n",
       "      <th>1</th>\n",
       "      <td>Margaret Atwood</td>\n",
       "      <td>28)</td>\n",
       "      <td>1939 - present)</td>\n",
       "    </tr>\n",
       "  </tbody>\n",
       "</table>\n",
       "</div>"
      ],
      "text/plain": [
       "               name number            years\n",
       "0     Maya Angelou     18)  1928 - present)\n",
       "1  Margaret Atwood     28)  1939 - present)"
      ]
     },
     "execution_count": 13,
     "metadata": {},
     "output_type": "execute_result"
    }
   ],
   "source": [
    "years = pd.read_csv('poets_years.csv')\n",
    "years.head(2)"
   ]
  },
  {
   "cell_type": "code",
   "execution_count": 14,
   "metadata": {},
   "outputs": [
    {
     "data": {
      "text/html": [
       "<div>\n",
       "<style>\n",
       "    .dataframe thead tr:only-child th {\n",
       "        text-align: right;\n",
       "    }\n",
       "\n",
       "    .dataframe thead th {\n",
       "        text-align: left;\n",
       "    }\n",
       "\n",
       "    .dataframe tbody tr th {\n",
       "        vertical-align: top;\n",
       "    }\n",
       "</style>\n",
       "<table border=\"1\" class=\"dataframe\">\n",
       "  <thead>\n",
       "    <tr style=\"text-align: right;\">\n",
       "      <th></th>\n",
       "      <th>name</th>\n",
       "      <th>number</th>\n",
       "      <th>birth</th>\n",
       "      <th>death</th>\n",
       "    </tr>\n",
       "  </thead>\n",
       "  <tbody>\n",
       "    <tr>\n",
       "      <th>0</th>\n",
       "      <td>Maya Angelou</td>\n",
       "      <td>18</td>\n",
       "      <td>1928</td>\n",
       "      <td>present</td>\n",
       "    </tr>\n",
       "    <tr>\n",
       "      <th>1</th>\n",
       "      <td>Margaret Atwood</td>\n",
       "      <td>28</td>\n",
       "      <td>1939</td>\n",
       "      <td>present</td>\n",
       "    </tr>\n",
       "    <tr>\n",
       "      <th>2</th>\n",
       "      <td>Matthew Arnold</td>\n",
       "      <td>45</td>\n",
       "      <td>1822</td>\n",
       "      <td>1888</td>\n",
       "    </tr>\n",
       "  </tbody>\n",
       "</table>\n",
       "</div>"
      ],
      "text/plain": [
       "               name number  birth     death\n",
       "0     Maya Angelou      18  1928    present\n",
       "1  Margaret Atwood      28  1939    present\n",
       "2   Matthew Arnold      45  1822       1888"
      ]
     },
     "execution_count": 14,
     "metadata": {},
     "output_type": "execute_result"
    }
   ],
   "source": [
    "years = years.apply(lambda x: x.str.replace(')', ''))\n",
    "years['birth'] = years.years.apply(lambda x: x.split('-')[0])\n",
    "years['death'] = years.years.apply(lambda x: x.split('-')[-1])\n",
    "years.drop('years', axis=1, inplace=True)\n",
    "years.to_csv('years-cleaned.csv', index=False)\n",
    "years.head(3)"
   ]
  },
  {
   "cell_type": "code",
   "execution_count": 15,
   "metadata": {},
   "outputs": [
    {
     "data": {
      "text/html": [
       "<div>\n",
       "<style>\n",
       "    .dataframe thead tr:only-child th {\n",
       "        text-align: right;\n",
       "    }\n",
       "\n",
       "    .dataframe thead th {\n",
       "        text-align: left;\n",
       "    }\n",
       "\n",
       "    .dataframe tbody tr th {\n",
       "        vertical-align: top;\n",
       "    }\n",
       "</style>\n",
       "<table border=\"1\" class=\"dataframe\">\n",
       "  <thead>\n",
       "    <tr style=\"text-align: right;\">\n",
       "      <th></th>\n",
       "      <th>name</th>\n",
       "      <th>number</th>\n",
       "      <th>birth</th>\n",
       "      <th>death</th>\n",
       "    </tr>\n",
       "  </thead>\n",
       "  <tbody>\n",
       "    <tr>\n",
       "      <th>0</th>\n",
       "      <td>Maya Angelou</td>\n",
       "      <td>18</td>\n",
       "      <td>1928</td>\n",
       "      <td>present</td>\n",
       "    </tr>\n",
       "  </tbody>\n",
       "</table>\n",
       "</div>"
      ],
      "text/plain": [
       "           name number  birth     death\n",
       "0  Maya Angelou     18  1928    present"
      ]
     },
     "execution_count": 15,
     "metadata": {},
     "output_type": "execute_result"
    }
   ],
   "source": [
    "years.name = years.name.apply(lambda x: x.strip())\n",
    "years.head(1)"
   ]
  },
  {
   "cell_type": "code",
   "execution_count": 16,
   "metadata": {},
   "outputs": [
    {
     "data": {
      "text/html": [
       "<div>\n",
       "<style>\n",
       "    .dataframe thead tr:only-child th {\n",
       "        text-align: right;\n",
       "    }\n",
       "\n",
       "    .dataframe thead th {\n",
       "        text-align: left;\n",
       "    }\n",
       "\n",
       "    .dataframe tbody tr th {\n",
       "        vertical-align: top;\n",
       "    }\n",
       "</style>\n",
       "<table border=\"1\" class=\"dataframe\">\n",
       "  <thead>\n",
       "    <tr style=\"text-align: right;\">\n",
       "      <th></th>\n",
       "      <th>name</th>\n",
       "      <th>number</th>\n",
       "      <th>birth</th>\n",
       "      <th>death</th>\n",
       "    </tr>\n",
       "  </thead>\n",
       "  <tbody>\n",
       "    <tr>\n",
       "      <th>425</th>\n",
       "      <td>Vlanes</td>\n",
       "      <td>Vladislav Nekliaev</td>\n",
       "      <td>13</td>\n",
       "      <td>13</td>\n",
       "    </tr>\n",
       "  </tbody>\n",
       "</table>\n",
       "</div>"
      ],
      "text/plain": [
       "       name               number birth death\n",
       "425  Vlanes  Vladislav Nekliaev     13    13"
      ]
     },
     "execution_count": 16,
     "metadata": {},
     "output_type": "execute_result"
    }
   ],
   "source": [
    "years[years.name == 'Vlanes']"
   ]
  },
  {
   "cell_type": "code",
   "execution_count": 17,
   "metadata": {},
   "outputs": [
    {
     "data": {
      "text/plain": [
       "name        Vlanes\n",
       "number          13\n",
       "birth         1969\n",
       "death      present\n",
       "Name: 425, dtype: object"
      ]
     },
     "execution_count": 17,
     "metadata": {},
     "output_type": "execute_result"
    }
   ],
   "source": [
    "years.iloc[425] = ['Vlanes', 13, '1969', ' present'] \n",
    "years.iloc[425]"
   ]
  },
  {
   "cell_type": "code",
   "execution_count": 18,
   "metadata": {},
   "outputs": [
    {
     "data": {
      "text/plain": [
       "name      object\n",
       "number     int64\n",
       "birth      int64\n",
       "death      int64\n",
       "dtype: object"
      ]
     },
     "execution_count": 18,
     "metadata": {},
     "output_type": "execute_result"
    }
   ],
   "source": [
    "years.number = years.number.astype(int)\n",
    "years.birth = years.birth.astype(int)\n",
    "years.death = [' 2016' if x == ' present' else x for x in years.death]\n",
    "years.death = years.death.astype(int)\n",
    "years.dtypes"
   ]
  },
  {
   "cell_type": "code",
   "execution_count": 19,
   "metadata": {
    "collapsed": true
   },
   "outputs": [],
   "source": [
    "full_df = df.merge(years, on='name')\n",
    "full_df.to_csv('full_df.csv', index=False)"
   ]
  },
  {
   "cell_type": "markdown",
   "metadata": {},
   "source": [
    "I now have a DataFrame with all the poems and their poets, with the years of birth and death for each poet. "
   ]
  },
  {
   "cell_type": "code",
   "execution_count": 20,
   "metadata": {
    "scrolled": true
   },
   "outputs": [
    {
     "data": {
      "text/html": [
       "<div>\n",
       "<style>\n",
       "    .dataframe thead tr:only-child th {\n",
       "        text-align: right;\n",
       "    }\n",
       "\n",
       "    .dataframe thead th {\n",
       "        text-align: left;\n",
       "    }\n",
       "\n",
       "    .dataframe tbody tr th {\n",
       "        vertical-align: top;\n",
       "    }\n",
       "</style>\n",
       "<table border=\"1\" class=\"dataframe\">\n",
       "  <thead>\n",
       "    <tr style=\"text-align: right;\">\n",
       "      <th></th>\n",
       "      <th>name</th>\n",
       "      <th>poem</th>\n",
       "      <th>num_poems</th>\n",
       "      <th>birth</th>\n",
       "      <th>death</th>\n",
       "    </tr>\n",
       "  </thead>\n",
       "  <tbody>\n",
       "    <tr>\n",
       "      <th>0</th>\n",
       "      <td>Rebecca Elson</td>\n",
       "      <td>We astronomers are nomads, Merchants, circus p...</td>\n",
       "      <td>2</td>\n",
       "      <td>1960</td>\n",
       "      <td>1999</td>\n",
       "    </tr>\n",
       "    <tr>\n",
       "      <th>1</th>\n",
       "      <td>Rebecca Elson</td>\n",
       "      <td>Having picked the final datum From the univers...</td>\n",
       "      <td>2</td>\n",
       "      <td>1960</td>\n",
       "      <td>1999</td>\n",
       "    </tr>\n",
       "  </tbody>\n",
       "</table>\n",
       "</div>"
      ],
      "text/plain": [
       "            name                                               poem  \\\n",
       "0  Rebecca Elson  We astronomers are nomads, Merchants, circus p...   \n",
       "1  Rebecca Elson  Having picked the final datum From the univers...   \n",
       "\n",
       "   num_poems  birth  death  \n",
       "0          2   1960   1999  \n",
       "1          2   1960   1999  "
      ]
     },
     "execution_count": 20,
     "metadata": {},
     "output_type": "execute_result"
    }
   ],
   "source": [
    "df = pd.read_csv('full_df.csv', names=['name', 'poem', 'num_poems', 'birth', 'death'], header=0)\n",
    "df.head(2)"
   ]
  },
  {
   "cell_type": "code",
   "execution_count": 21,
   "metadata": {},
   "outputs": [
    {
     "name": "stdout",
     "output_type": "stream",
     "text": [
      "name         0\n",
      "poem         0\n",
      "num_poems    0\n",
      "birth        0\n",
      "death        0\n",
      "dtype: int64\n",
      "\n",
      "\n",
      "name         object\n",
      "poem         object\n",
      "num_poems     int64\n",
      "birth         int64\n",
      "death         int64\n",
      "dtype: object\n",
      "\n",
      "\n",
      "(34330, 5)\n"
     ]
    }
   ],
   "source": [
    "print df.isnull().sum()\n",
    "print '\\n'\n",
    "print df.dtypes\n",
    "print '\\n'\n",
    "print df.shape"
   ]
  },
  {
   "cell_type": "code",
   "execution_count": 22,
   "metadata": {},
   "outputs": [
    {
     "data": {
      "text/plain": [
       "(32259, 5)"
      ]
     },
     "execution_count": 22,
     "metadata": {},
     "output_type": "execute_result"
    }
   ],
   "source": [
    "df = df[df.death > 1700]\n",
    "df.shape"
   ]
  },
  {
   "cell_type": "markdown",
   "metadata": {},
   "source": [
    "There are so many more poems from Raymond A. Foss than anyone else. I decided to drop him from the DataFrame entirely so his style doesn't effect the whole class. "
   ]
  },
  {
   "cell_type": "code",
   "execution_count": 23,
   "metadata": {
    "scrolled": true
   },
   "outputs": [
    {
     "data": {
      "text/plain": [
       "Raymond A. Foss           12138\n",
       "Emily Dickinson            1779\n",
       "Robert William Service      854\n",
       "Robert Burns                579\n",
       "Isaac Watts                 458\n",
       "Name: name, dtype: int64"
      ]
     },
     "execution_count": 23,
     "metadata": {},
     "output_type": "execute_result"
    }
   ],
   "source": [
    "df.name.value_counts().head()"
   ]
  },
  {
   "cell_type": "code",
   "execution_count": 24,
   "metadata": {},
   "outputs": [
    {
     "data": {
      "text/plain": [
       "20121"
      ]
     },
     "execution_count": 24,
     "metadata": {},
     "output_type": "execute_result"
    }
   ],
   "source": [
    "df = df[df.name != 'Raymond A. Foss']\n",
    "len(df)"
   ]
  },
  {
   "cell_type": "code",
   "execution_count": 25,
   "metadata": {},
   "outputs": [
    {
     "data": {
      "text/html": [
       "<div>\n",
       "<style>\n",
       "    .dataframe thead tr:only-child th {\n",
       "        text-align: right;\n",
       "    }\n",
       "\n",
       "    .dataframe thead th {\n",
       "        text-align: left;\n",
       "    }\n",
       "\n",
       "    .dataframe tbody tr th {\n",
       "        vertical-align: top;\n",
       "    }\n",
       "</style>\n",
       "<table border=\"1\" class=\"dataframe\">\n",
       "  <thead>\n",
       "    <tr style=\"text-align: right;\">\n",
       "      <th></th>\n",
       "      <th>name</th>\n",
       "      <th>poem</th>\n",
       "      <th>num_poems</th>\n",
       "      <th>birth</th>\n",
       "      <th>death</th>\n",
       "    </tr>\n",
       "  </thead>\n",
       "  <tbody>\n",
       "    <tr>\n",
       "      <th>20116</th>\n",
       "      <td>Derek Walcott</td>\n",
       "      <td>After that hot gospeller has levelled all but ...</td>\n",
       "      <td>21</td>\n",
       "      <td>1930</td>\n",
       "      <td>2016</td>\n",
       "    </tr>\n",
       "    <tr>\n",
       "      <th>20117</th>\n",
       "      <td>Derek Walcott</td>\n",
       "      <td>A wind is ruffling the tawny pelt Of Africa, K...</td>\n",
       "      <td>21</td>\n",
       "      <td>1930</td>\n",
       "      <td>2016</td>\n",
       "    </tr>\n",
       "    <tr>\n",
       "      <th>20118</th>\n",
       "      <td>Derek Walcott</td>\n",
       "      <td>1  Adios, Carenage  In idle August, while the ...</td>\n",
       "      <td>21</td>\n",
       "      <td>1930</td>\n",
       "      <td>2016</td>\n",
       "    </tr>\n",
       "    <tr>\n",
       "      <th>20119</th>\n",
       "      <td>Derek Walcott</td>\n",
       "      <td>The time will come  when, with elation  you wi...</td>\n",
       "      <td>21</td>\n",
       "      <td>1930</td>\n",
       "      <td>2016</td>\n",
       "    </tr>\n",
       "    <tr>\n",
       "      <th>20120</th>\n",
       "      <td>Derek Walcott</td>\n",
       "      <td>There were still shards of an ancient pastoral...</td>\n",
       "      <td>21</td>\n",
       "      <td>1930</td>\n",
       "      <td>2016</td>\n",
       "    </tr>\n",
       "  </tbody>\n",
       "</table>\n",
       "</div>"
      ],
      "text/plain": [
       "                name                                               poem  \\\n",
       "20116  Derek Walcott  After that hot gospeller has levelled all but ...   \n",
       "20117  Derek Walcott  A wind is ruffling the tawny pelt Of Africa, K...   \n",
       "20118  Derek Walcott  1  Adios, Carenage  In idle August, while the ...   \n",
       "20119  Derek Walcott  The time will come  when, with elation  you wi...   \n",
       "20120  Derek Walcott  There were still shards of an ancient pastoral...   \n",
       "\n",
       "       num_poems  birth  death  \n",
       "20116         21   1930   2016  \n",
       "20117         21   1930   2016  \n",
       "20118         21   1930   2016  \n",
       "20119         21   1930   2016  \n",
       "20120         21   1930   2016  "
      ]
     },
     "execution_count": 25,
     "metadata": {},
     "output_type": "execute_result"
    }
   ],
   "source": [
    "df.reset_index(drop=True, inplace=True)\n",
    "df.tail()"
   ]
  },
  {
   "cell_type": "markdown",
   "metadata": {},
   "source": [
    "There were a few hundred entries that contained only 'div' HTML tags. Those pages must have had a slightly different structure, causing the poems to get deleted when I cleaned them all. The code below is how I removed them."
   ]
  },
  {
   "cell_type": "code",
   "execution_count": 26,
   "metadata": {
    "collapsed": true
   },
   "outputs": [],
   "source": [
    "for i in range(0, len(df)):\n",
    "    if '<div' in df.poem.iloc[i]:\n",
    "        df.set_value(i, 1, np.nan, takeable=True)"
   ]
  },
  {
   "cell_type": "code",
   "execution_count": 27,
   "metadata": {},
   "outputs": [
    {
     "name": "stdout",
     "output_type": "stream",
     "text": [
      "0\n"
     ]
    }
   ],
   "source": [
    "count = 0\n",
    "for poem in df.poem:\n",
    "    if '<div' in df.poem:\n",
    "        count +=1\n",
    "print count"
   ]
  },
  {
   "cell_type": "code",
   "execution_count": 28,
   "metadata": {},
   "outputs": [
    {
     "data": {
      "text/plain": [
       "name           0\n",
       "poem         377\n",
       "num_poems      0\n",
       "birth          0\n",
       "death          0\n",
       "dtype: int64"
      ]
     },
     "execution_count": 28,
     "metadata": {},
     "output_type": "execute_result"
    }
   ],
   "source": [
    "df.isnull().sum()"
   ]
  },
  {
   "cell_type": "code",
   "execution_count": 29,
   "metadata": {},
   "outputs": [
    {
     "data": {
      "text/html": [
       "<div>\n",
       "<style>\n",
       "    .dataframe thead tr:only-child th {\n",
       "        text-align: right;\n",
       "    }\n",
       "\n",
       "    .dataframe thead th {\n",
       "        text-align: left;\n",
       "    }\n",
       "\n",
       "    .dataframe tbody tr th {\n",
       "        vertical-align: top;\n",
       "    }\n",
       "</style>\n",
       "<table border=\"1\" class=\"dataframe\">\n",
       "  <thead>\n",
       "    <tr style=\"text-align: right;\">\n",
       "      <th></th>\n",
       "      <th>name</th>\n",
       "      <th>poem</th>\n",
       "      <th>num_poems</th>\n",
       "      <th>birth</th>\n",
       "      <th>death</th>\n",
       "    </tr>\n",
       "  </thead>\n",
       "  <tbody>\n",
       "    <tr>\n",
       "      <th>2394</th>\n",
       "      <td>Adrienne Rich</td>\n",
       "      <td>NaN</td>\n",
       "      <td>31</td>\n",
       "      <td>1929</td>\n",
       "      <td>2016</td>\n",
       "    </tr>\n",
       "    <tr>\n",
       "      <th>2395</th>\n",
       "      <td>Adrienne Rich</td>\n",
       "      <td>NaN</td>\n",
       "      <td>31</td>\n",
       "      <td>1929</td>\n",
       "      <td>2016</td>\n",
       "    </tr>\n",
       "  </tbody>\n",
       "</table>\n",
       "</div>"
      ],
      "text/plain": [
       "               name poem  num_poems  birth  death\n",
       "2394  Adrienne Rich  NaN         31   1929   2016\n",
       "2395  Adrienne Rich  NaN         31   1929   2016"
      ]
     },
     "execution_count": 29,
     "metadata": {},
     "output_type": "execute_result"
    }
   ],
   "source": [
    "df[df.isnull().any(axis=1)].head(2)"
   ]
  },
  {
   "cell_type": "code",
   "execution_count": 30,
   "metadata": {},
   "outputs": [
    {
     "data": {
      "text/plain": [
       "name         0\n",
       "poem         0\n",
       "num_poems    0\n",
       "birth        0\n",
       "death        0\n",
       "dtype: int64"
      ]
     },
     "execution_count": 30,
     "metadata": {},
     "output_type": "execute_result"
    }
   ],
   "source": [
    "df.dropna(inplace=True)\n",
    "df.isnull().sum()"
   ]
  },
  {
   "cell_type": "code",
   "execution_count": 31,
   "metadata": {},
   "outputs": [
    {
     "data": {
      "text/plain": [
       "(19744, 5)"
      ]
     },
     "execution_count": 31,
     "metadata": {},
     "output_type": "execute_result"
    }
   ],
   "source": [
    "df.shape"
   ]
  },
  {
   "cell_type": "markdown",
   "metadata": {},
   "source": [
    "We have the clean poems and we have the poets years. Now, I convert all the poems to lowercase so the computer will treat all the words the same, and remove all the punctuation and digits."
   ]
  },
  {
   "cell_type": "code",
   "execution_count": 32,
   "metadata": {},
   "outputs": [
    {
     "data": {
      "text/html": [
       "<div>\n",
       "<style>\n",
       "    .dataframe thead tr:only-child th {\n",
       "        text-align: right;\n",
       "    }\n",
       "\n",
       "    .dataframe thead th {\n",
       "        text-align: left;\n",
       "    }\n",
       "\n",
       "    .dataframe tbody tr th {\n",
       "        vertical-align: top;\n",
       "    }\n",
       "</style>\n",
       "<table border=\"1\" class=\"dataframe\">\n",
       "  <thead>\n",
       "    <tr style=\"text-align: right;\">\n",
       "      <th></th>\n",
       "      <th>name</th>\n",
       "      <th>poem</th>\n",
       "      <th>num_poems</th>\n",
       "      <th>birth</th>\n",
       "      <th>death</th>\n",
       "    </tr>\n",
       "  </thead>\n",
       "  <tbody>\n",
       "    <tr>\n",
       "      <th>0</th>\n",
       "      <td>Rebecca Elson</td>\n",
       "      <td>We astronomers are nomads, Merchants, circus p...</td>\n",
       "      <td>2</td>\n",
       "      <td>1960</td>\n",
       "      <td>1999</td>\n",
       "    </tr>\n",
       "    <tr>\n",
       "      <th>1</th>\n",
       "      <td>Rebecca Elson</td>\n",
       "      <td>Having picked the final datum From the univers...</td>\n",
       "      <td>2</td>\n",
       "      <td>1960</td>\n",
       "      <td>1999</td>\n",
       "    </tr>\n",
       "  </tbody>\n",
       "</table>\n",
       "</div>"
      ],
      "text/plain": [
       "            name                                               poem  \\\n",
       "0  Rebecca Elson  We astronomers are nomads, Merchants, circus p...   \n",
       "1  Rebecca Elson  Having picked the final datum From the univers...   \n",
       "\n",
       "   num_poems  birth  death  \n",
       "0          2   1960   1999  \n",
       "1          2   1960   1999  "
      ]
     },
     "execution_count": 32,
     "metadata": {},
     "output_type": "execute_result"
    }
   ],
   "source": [
    "df.head(2)"
   ]
  },
  {
   "cell_type": "code",
   "execution_count": 33,
   "metadata": {},
   "outputs": [
    {
     "data": {
      "text/html": [
       "<div>\n",
       "<style>\n",
       "    .dataframe thead tr:only-child th {\n",
       "        text-align: right;\n",
       "    }\n",
       "\n",
       "    .dataframe thead th {\n",
       "        text-align: left;\n",
       "    }\n",
       "\n",
       "    .dataframe tbody tr th {\n",
       "        vertical-align: top;\n",
       "    }\n",
       "</style>\n",
       "<table border=\"1\" class=\"dataframe\">\n",
       "  <thead>\n",
       "    <tr style=\"text-align: right;\">\n",
       "      <th></th>\n",
       "      <th>name</th>\n",
       "      <th>poem</th>\n",
       "      <th>num_poems</th>\n",
       "      <th>birth</th>\n",
       "      <th>death</th>\n",
       "    </tr>\n",
       "  </thead>\n",
       "  <tbody>\n",
       "    <tr>\n",
       "      <th>0</th>\n",
       "      <td>Rebecca Elson</td>\n",
       "      <td>we astronomers are nomads merchants circus peo...</td>\n",
       "      <td>2</td>\n",
       "      <td>1960</td>\n",
       "      <td>1999</td>\n",
       "    </tr>\n",
       "    <tr>\n",
       "      <th>1</th>\n",
       "      <td>Rebecca Elson</td>\n",
       "      <td>having picked the final datum from the univers...</td>\n",
       "      <td>2</td>\n",
       "      <td>1960</td>\n",
       "      <td>1999</td>\n",
       "    </tr>\n",
       "    <tr>\n",
       "      <th>2</th>\n",
       "      <td>James Thomson</td>\n",
       "      <td>shall the great soul of newton quit this earth...</td>\n",
       "      <td>10</td>\n",
       "      <td>1700</td>\n",
       "      <td>1748</td>\n",
       "    </tr>\n",
       "    <tr>\n",
       "      <th>3</th>\n",
       "      <td>James Thomson</td>\n",
       "      <td>see winter comes to rule the varied year  sull...</td>\n",
       "      <td>10</td>\n",
       "      <td>1700</td>\n",
       "      <td>1748</td>\n",
       "    </tr>\n",
       "    <tr>\n",
       "      <th>4</th>\n",
       "      <td>James Thomson</td>\n",
       "      <td>fareweel ye bughts an all your ewes  an field...</td>\n",
       "      <td>10</td>\n",
       "      <td>1700</td>\n",
       "      <td>1748</td>\n",
       "    </tr>\n",
       "  </tbody>\n",
       "</table>\n",
       "</div>"
      ],
      "text/plain": [
       "            name                                               poem  \\\n",
       "0  Rebecca Elson  we astronomers are nomads merchants circus peo...   \n",
       "1  Rebecca Elson  having picked the final datum from the univers...   \n",
       "2  James Thomson  shall the great soul of newton quit this earth...   \n",
       "3  James Thomson  see winter comes to rule the varied year  sull...   \n",
       "4  James Thomson   fareweel ye bughts an all your ewes  an field...   \n",
       "\n",
       "   num_poems  birth  death  \n",
       "0          2   1960   1999  \n",
       "1          2   1960   1999  \n",
       "2         10   1700   1748  \n",
       "3         10   1700   1748  \n",
       "4         10   1700   1748  "
      ]
     },
     "execution_count": 33,
     "metadata": {},
     "output_type": "execute_result"
    }
   ],
   "source": [
    "df.poem = df.poem.apply(lambda x: x.lower())\n",
    "df.poem = df.poem.apply(lambda x: x.translate(None, string.punctuation))\n",
    "df.poem = df.poem.apply(lambda x: x.translate(None, string.digits))\n",
    "df.poem  = [re.sub('[^A-Za-z ]+', '', x) for x in df.poem]\n",
    "df.head()"
   ]
  },
  {
   "cell_type": "markdown",
   "metadata": {},
   "source": [
    "The function below will return a class for each poem depending on the year of the poet's death. I was conflicted about how to break up the classes, and this is what I settled on for now. I intend to return and examine the question more rigorously to determine if there is a better way to break up the classes. As it stands, I created 3 classes based on the poet's death. The 18th, 19th, and 20th centuries. The 20th includes poets who are still living today. "
   ]
  },
  {
   "cell_type": "code",
   "execution_count": 34,
   "metadata": {
    "collapsed": true
   },
   "outputs": [],
   "source": [
    "def epoch(df):\n",
    "    if df['death'] < 1800:\n",
    "        return 1\n",
    "    elif (df['death'] >= 1800) & (df['death'] < 1900):\n",
    "        return 2\n",
    "    else:\n",
    "        return 3\n",
    "    \n",
    "df['epoch'] = df.apply(epoch, axis=1)"
   ]
  },
  {
   "cell_type": "markdown",
   "metadata": {},
   "source": [
    "In the cell below, I randomly selected poems from the classes that have more values in order to make my classes balanced. In the future, I would like to collect more data from the lesser represented classes. If that isn't possible, I will explore methods of sampling that are more robust than the simple slicing I've done. "
   ]
  },
  {
   "cell_type": "code",
   "execution_count": 35,
   "metadata": {},
   "outputs": [
    {
     "name": "stdout",
     "output_type": "stream",
     "text": [
      "(1349, 6)\n",
      "(1428, 6)\n",
      "(1410, 6)\n"
     ]
    }
   ],
   "source": [
    "df_1 = df[df.death < 1800]\n",
    "df_2 = df[(df.death >= 1800) & (df.death < 1900)][::4]\n",
    "df_3 = df[(df.death >= 1900)][::9]\n",
    "print df_1.shape\n",
    "print df_2.shape\n",
    "print df_3.shape"
   ]
  },
  {
   "cell_type": "code",
   "execution_count": 36,
   "metadata": {
    "scrolled": true
   },
   "outputs": [
    {
     "data": {
      "text/html": [
       "<div>\n",
       "<style>\n",
       "    .dataframe thead tr:only-child th {\n",
       "        text-align: right;\n",
       "    }\n",
       "\n",
       "    .dataframe thead th {\n",
       "        text-align: left;\n",
       "    }\n",
       "\n",
       "    .dataframe tbody tr th {\n",
       "        vertical-align: top;\n",
       "    }\n",
       "</style>\n",
       "<table border=\"1\" class=\"dataframe\">\n",
       "  <thead>\n",
       "    <tr style=\"text-align: right;\">\n",
       "      <th></th>\n",
       "      <th>name</th>\n",
       "      <th>poem</th>\n",
       "      <th>num_poems</th>\n",
       "      <th>birth</th>\n",
       "      <th>death</th>\n",
       "      <th>epoch</th>\n",
       "    </tr>\n",
       "  </thead>\n",
       "  <tbody>\n",
       "    <tr>\n",
       "      <th>0</th>\n",
       "      <td>James Thomson</td>\n",
       "      <td>shall the great soul of newton quit this earth...</td>\n",
       "      <td>10</td>\n",
       "      <td>1700</td>\n",
       "      <td>1748</td>\n",
       "      <td>1</td>\n",
       "    </tr>\n",
       "    <tr>\n",
       "      <th>1</th>\n",
       "      <td>James Thomson</td>\n",
       "      <td>see winter comes to rule the varied year  sull...</td>\n",
       "      <td>10</td>\n",
       "      <td>1700</td>\n",
       "      <td>1748</td>\n",
       "      <td>1</td>\n",
       "    </tr>\n",
       "    <tr>\n",
       "      <th>2</th>\n",
       "      <td>James Thomson</td>\n",
       "      <td>fareweel ye bughts an all your ewes  an field...</td>\n",
       "      <td>10</td>\n",
       "      <td>1700</td>\n",
       "      <td>1748</td>\n",
       "      <td>1</td>\n",
       "    </tr>\n",
       "    <tr>\n",
       "      <th>3</th>\n",
       "      <td>James Thomson</td>\n",
       "      <td>give a man a horse he can ride     give a man ...</td>\n",
       "      <td>10</td>\n",
       "      <td>1700</td>\n",
       "      <td>1748</td>\n",
       "      <td>1</td>\n",
       "    </tr>\n",
       "    <tr>\n",
       "      <th>4</th>\n",
       "      <td>James Thomson</td>\n",
       "      <td>sweet ravelrig i neer could part  from thee bu...</td>\n",
       "      <td>10</td>\n",
       "      <td>1700</td>\n",
       "      <td>1748</td>\n",
       "      <td>1</td>\n",
       "    </tr>\n",
       "  </tbody>\n",
       "</table>\n",
       "</div>"
      ],
      "text/plain": [
       "            name                                               poem  \\\n",
       "0  James Thomson  shall the great soul of newton quit this earth...   \n",
       "1  James Thomson  see winter comes to rule the varied year  sull...   \n",
       "2  James Thomson   fareweel ye bughts an all your ewes  an field...   \n",
       "3  James Thomson  give a man a horse he can ride     give a man ...   \n",
       "4  James Thomson  sweet ravelrig i neer could part  from thee bu...   \n",
       "\n",
       "   num_poems  birth  death  epoch  \n",
       "0         10   1700   1748      1  \n",
       "1         10   1700   1748      1  \n",
       "2         10   1700   1748      1  \n",
       "3         10   1700   1748      1  \n",
       "4         10   1700   1748      1  "
      ]
     },
     "execution_count": 36,
     "metadata": {},
     "output_type": "execute_result"
    }
   ],
   "source": [
    "df_model = pd.concat([df_1, df_2, df_3], axis=0)\n",
    "df_model.reset_index(inplace=True, drop=True)\n",
    "df_model.to_csv('final_df.csv')\n",
    "df_model.head()"
   ]
  },
  {
   "cell_type": "markdown",
   "metadata": {},
   "source": [
    "### Modeling:\n",
    "This begins the modeling phase of the project. The data is clean, the classes are set. Now I get to answer my question: Can my computer tell the difference between the styles of different eras? I try many different types of models to determine which can classify my data best. \n",
    "\n",
    "I split the data into training and testing sets, so as to control for overfitting. I want a model that generalizes well to new data it hasn't seen before. One way to test that is the train-test-split. If the model performs well on my training data **and** my testing data, I know it works well on data it hasn't seen and isn't overfit to the training data.\n",
    "\n",
    "I experimented with many models and with many of their different parameters, but surprisingly, the models performed best with the simplest, default parameters. This was most apparent with the Count Vectorizer, which creates a feature for each word present in the data set, and computes the word count for each word in each poem. In most projects dealing with text data, the practice is to take out a list of stop words, words that are common in speech and don't really teach us anything. Words like 'the' and 'his.' In this situation, taking out the stopwords actually hurt the performance of the model. After some thought, this made a lot of sense. This project is not about content, but about style. The frequency of words like 'the' is quite relevant when it comes to style.\n",
    "\n",
    "The best performing model was the Multinomial Naive Bayes Classifier, which gave an overall accuracy score of .82. Below is a visualization of the confusion matrix, which breaks down the accuracy for each class. \n",
    "\n",
    "The model performs slightly worse when the stopwords are taken out, but I ran that anyway to get a list of the features that were likeliest to belong to each class that were more informative than frequencies of 'the' and 'his' and the 'like.'"
   ]
  },
  {
   "cell_type": "code",
   "execution_count": 37,
   "metadata": {
    "collapsed": true
   },
   "outputs": [],
   "source": [
    "X = df_model.poem\n",
    "y = df_model.epoch"
   ]
  },
  {
   "cell_type": "code",
   "execution_count": 38,
   "metadata": {
    "collapsed": true
   },
   "outputs": [],
   "source": [
    "X_train, X_test, y_train, y_test = train_test_split(X, y, random_state=42, test_size=0.3)"
   ]
  },
  {
   "cell_type": "code",
   "execution_count": 39,
   "metadata": {
    "collapsed": true
   },
   "outputs": [],
   "source": [
    "cvt = CountVectorizer()"
   ]
  },
  {
   "cell_type": "code",
   "execution_count": 40,
   "metadata": {
    "collapsed": true
   },
   "outputs": [],
   "source": [
    "X_train = pd.DataFrame(cvt.fit_transform(X_train).todense(), columns=cvt.get_feature_names())\n",
    "X_test = pd.DataFrame(cvt.transform(X_test).todense(), columns=cvt.get_feature_names())\n",
    "X_train.rename(columns={'fit':'fit_feature'}, inplace=True);\n",
    "X_test.rename(columns={'fit':'fit_feature'}, inplace=True);"
   ]
  },
  {
   "cell_type": "code",
   "execution_count": 41,
   "metadata": {},
   "outputs": [
    {
     "name": "stdout",
     "output_type": "stream",
     "text": [
      "(2930, 42491)\n",
      "(2930,)\n",
      "(1257, 42491)\n",
      "(1257,)\n"
     ]
    }
   ],
   "source": [
    "print X_train.shape\n",
    "print y_train.shape\n",
    "print X_test.shape\n",
    "print y_test.shape"
   ]
  },
  {
   "cell_type": "code",
   "execution_count": 42,
   "metadata": {
    "collapsed": true
   },
   "outputs": [],
   "source": [
    "# ch2 = SelectKBest(chi2, k=11500)\n",
    "# X_train_ch = ch2.fit_transform(X_train, y_train)\n",
    "# X_test_ch = ch2.transform(X_test)"
   ]
  },
  {
   "cell_type": "code",
   "execution_count": 43,
   "metadata": {},
   "outputs": [
    {
     "data": {
      "text/plain": [
       "0.81622911694510736"
      ]
     },
     "execution_count": 43,
     "metadata": {},
     "output_type": "execute_result"
    }
   ],
   "source": [
    "nb = MultinomialNB(alpha=0.3)\n",
    "nb.fit(X_train, y_train)\n",
    "preds = nb.predict(X_test)\n",
    "nb.score(X_test, y_test)"
   ]
  },
  {
   "cell_type": "code",
   "execution_count": 44,
   "metadata": {},
   "outputs": [
    {
     "data": {
      "text/plain": [
       "0.80308683888317134"
      ]
     },
     "execution_count": 44,
     "metadata": {},
     "output_type": "execute_result"
    }
   ],
   "source": [
    "cross_val_score(nb, X_train, y_train, cv=10).mean()"
   ]
  },
  {
   "cell_type": "code",
   "execution_count": 45,
   "metadata": {},
   "outputs": [
    {
     "data": {
      "text/plain": [
       "(3, 42491)"
      ]
     },
     "execution_count": 45,
     "metadata": {},
     "output_type": "execute_result"
    }
   ],
   "source": [
    "nb.feature_log_prob_.shape"
   ]
  },
  {
   "cell_type": "code",
   "execution_count": 46,
   "metadata": {
    "collapsed": true
   },
   "outputs": [],
   "source": [
    "log_prob = pd.DataFrame(nb.feature_log_prob_, columns=X_train.columns, index=['18th', '19th', '20th'])\n",
    "prob = np.exp(log_prob)"
   ]
  },
  {
   "cell_type": "code",
   "execution_count": 47,
   "metadata": {
    "collapsed": true
   },
   "outputs": [],
   "source": [
    "eighteenth = prob.iloc[0].nlargest(11).to_frame().T\n",
    "nineteenth = prob.iloc[1].nlargest(11).to_frame().T\n",
    "twentieth = prob.iloc[2].nlargest(11).to_frame().T"
   ]
  },
  {
   "cell_type": "markdown",
   "metadata": {},
   "source": [
    "These are the 11 words with the highest probability of belonging to each class. This demonstrates that the frequency of the words that are used most frequently have the largest effect on determining the class likelihood. At the bottom of the notebook, I have an analysis of the most likely words when stop words have been taken out. "
   ]
  },
  {
   "cell_type": "code",
   "execution_count": 48,
   "metadata": {
    "scrolled": true
   },
   "outputs": [
    {
     "data": {
      "text/html": [
       "<div>\n",
       "<style>\n",
       "    .dataframe thead tr:only-child th {\n",
       "        text-align: right;\n",
       "    }\n",
       "\n",
       "    .dataframe thead th {\n",
       "        text-align: left;\n",
       "    }\n",
       "\n",
       "    .dataframe tbody tr th {\n",
       "        vertical-align: top;\n",
       "    }\n",
       "</style>\n",
       "<table border=\"1\" class=\"dataframe\">\n",
       "  <thead>\n",
       "    <tr style=\"text-align: right;\">\n",
       "      <th></th>\n",
       "      <th>and</th>\n",
       "      <th>for</th>\n",
       "      <th>he</th>\n",
       "      <th>his</th>\n",
       "      <th>in</th>\n",
       "      <th>is</th>\n",
       "      <th>my</th>\n",
       "      <th>of</th>\n",
       "      <th>that</th>\n",
       "      <th>the</th>\n",
       "      <th>to</th>\n",
       "      <th>with</th>\n",
       "      <th>you</th>\n",
       "    </tr>\n",
       "  </thead>\n",
       "  <tbody>\n",
       "    <tr>\n",
       "      <th>18th</th>\n",
       "      <td>0.034161</td>\n",
       "      <td>0.008343</td>\n",
       "      <td>0.007394</td>\n",
       "      <td>0.012676</td>\n",
       "      <td>0.014522</td>\n",
       "      <td>NaN</td>\n",
       "      <td>0.011380</td>\n",
       "      <td>0.016792</td>\n",
       "      <td>0.007928</td>\n",
       "      <td>0.054860</td>\n",
       "      <td>0.020085</td>\n",
       "      <td>0.007683</td>\n",
       "      <td>NaN</td>\n",
       "    </tr>\n",
       "    <tr>\n",
       "      <th>19th</th>\n",
       "      <td>0.040298</td>\n",
       "      <td>0.007160</td>\n",
       "      <td>NaN</td>\n",
       "      <td>0.007339</td>\n",
       "      <td>0.015172</td>\n",
       "      <td>0.006922</td>\n",
       "      <td>0.008289</td>\n",
       "      <td>0.024131</td>\n",
       "      <td>0.009956</td>\n",
       "      <td>0.058348</td>\n",
       "      <td>0.019231</td>\n",
       "      <td>0.009339</td>\n",
       "      <td>NaN</td>\n",
       "    </tr>\n",
       "    <tr>\n",
       "      <th>20th</th>\n",
       "      <td>0.040866</td>\n",
       "      <td>0.007590</td>\n",
       "      <td>NaN</td>\n",
       "      <td>NaN</td>\n",
       "      <td>0.017082</td>\n",
       "      <td>0.007971</td>\n",
       "      <td>0.008317</td>\n",
       "      <td>0.026227</td>\n",
       "      <td>0.009779</td>\n",
       "      <td>0.066373</td>\n",
       "      <td>0.018959</td>\n",
       "      <td>0.009065</td>\n",
       "      <td>0.008022</td>\n",
       "    </tr>\n",
       "  </tbody>\n",
       "</table>\n",
       "</div>"
      ],
      "text/plain": [
       "           and       for        he       his        in        is        my  \\\n",
       "18th  0.034161  0.008343  0.007394  0.012676  0.014522       NaN  0.011380   \n",
       "19th  0.040298  0.007160       NaN  0.007339  0.015172  0.006922  0.008289   \n",
       "20th  0.040866  0.007590       NaN       NaN  0.017082  0.007971  0.008317   \n",
       "\n",
       "            of      that       the        to      with       you  \n",
       "18th  0.016792  0.007928  0.054860  0.020085  0.007683       NaN  \n",
       "19th  0.024131  0.009956  0.058348  0.019231  0.009339       NaN  \n",
       "20th  0.026227  0.009779  0.066373  0.018959  0.009065  0.008022  "
      ]
     },
     "execution_count": 48,
     "metadata": {},
     "output_type": "execute_result"
    }
   ],
   "source": [
    "common_words = pd.concat([eighteenth, nineteenth, twentieth])\n",
    "common_words"
   ]
  },
  {
   "cell_type": "code",
   "execution_count": 49,
   "metadata": {
    "collapsed": true
   },
   "outputs": [],
   "source": [
    "def plot_confusion_matrix(cm, classes,\n",
    "                          normalize=False,\n",
    "                          title='Confusion matrix',\n",
    "                          cmap=plt.cm.Blues):\n",
    "    \"\"\"\n",
    "    This function prints and plots the confusion matrix.\n",
    "    Normalization can be applied by setting `normalize=True`.\n",
    "    \"\"\"\n",
    "    if normalize:\n",
    "        cm = cm.astype('float') / cm.sum(axis=1)[:, np.newaxis]\n",
    "        print(\"Normalized confusion matrix\")\n",
    "    else:\n",
    "        print('Confusion matrix, without normalization')\n",
    "\n",
    "    print(cm)\n",
    "\n",
    "    plt.imshow(cm, interpolation='nearest', cmap=cmap)\n",
    "    plt.title(title)\n",
    "    plt.colorbar()\n",
    "    tick_marks = np.arange(len(classes))\n",
    "    plt.xticks(tick_marks, classes, rotation=45)\n",
    "    plt.yticks(tick_marks, classes)\n",
    "\n",
    "    fmt = '.2f' if normalize else 'd'\n",
    "    thresh = cm.max() / 2.\n",
    "    for i, j in itertools.product(range(cm.shape[0]), range(cm.shape[1])):\n",
    "        plt.text(j, i, format(cm[i, j], fmt),\n",
    "                 horizontalalignment=\"center\",\n",
    "                 color=\"white\" if cm[i, j] > thresh else \"black\")\n",
    "\n",
    "    plt.tight_layout()\n",
    "    plt.ylabel('True label')\n",
    "    plt.xlabel('Predicted label')"
   ]
  },
  {
   "cell_type": "code",
   "execution_count": 50,
   "metadata": {},
   "outputs": [
    {
     "name": "stdout",
     "output_type": "stream",
     "text": [
      "Normalized confusion matrix\n",
      "[[ 0.91  0.04  0.05]\n",
      " [ 0.05  0.72  0.22]\n",
      " [ 0.    0.18  0.81]]\n"
     ]
    },
    {
     "data": {
      "image/png": "[encoded data removed]",
      "text/plain": [
       "<matplotlib.figure.Figure at 0x1153412d0>"
      ]
     },
     "metadata": {
      "image/png": {
       "height": 293,
       "width": 332
      }
     },
     "output_type": "display_data"
    }
   ],
   "source": [
    "cnf_matrix = confusion_matrix(y_test, preds)\n",
    "np.set_printoptions(precision=2)\n",
    "\n",
    "# Plot non-normalized confusion matrix\n",
    "plt.figure()\n",
    "plot_confusion_matrix(cnf_matrix, classes=['18th', '19th', '20th'], normalize=True,\n",
    "                      title='Normalized Confusion Matrix')\n",
    "plt.show()"
   ]
  },
  {
   "cell_type": "markdown",
   "metadata": {},
   "source": [
    "In the image just above this cell, you can see that the model distinguishes 18th century poetry from the other classes best, with 91% accuracy. Interestingly, the model wrongly classified slightly more 18th century works as 20th century than as 19th. \n",
    "\n",
    "The model classified 19th century poetry worst of all the classes, though still reasonably well. It was 72% accurate, but misclassified 22% of the poems as 20th century, and a small number as 18th. \n",
    "\n",
    "The model performed quite well on 20th century works, correctly classifying 81%, and misclassifying 18% as 19th century. Interestingly, it did not mistake any 20th century poems as 18th century works. \n",
    "\n",
    "18th century poetry appears to be most distinguishable of these classes. This makes sense, as I would imagine language has changed a fair amount since then, particularly in literature. 19th and 20th century texts appear to be less seperable. However, I wonder if some of that confusion can be mitigated by a more deliberate separation of the classes. Centuries in and of themselves are quite arbitrary in relation to language style. Also, I think that I can assign the poets in a more deliberate and better manner than simply the time of their death. "
   ]
  },
  {
   "cell_type": "code",
   "execution_count": 51,
   "metadata": {},
   "outputs": [
    {
     "data": {
      "text/plain": [
       "1    432\n",
       "2    424\n",
       "3    401\n",
       "Name: epoch, dtype: int64"
      ]
     },
     "execution_count": 51,
     "metadata": {},
     "output_type": "execute_result"
    }
   ],
   "source": [
    "y_test.value_counts()"
   ]
  },
  {
   "cell_type": "code",
   "execution_count": 52,
   "metadata": {},
   "outputs": [
    {
     "name": "stdout",
     "output_type": "stream",
     "text": [
      "             precision    recall  f1-score   support\n",
      "\n",
      "          1       0.94      0.91      0.93       432\n",
      "          2       0.77      0.72      0.74       424\n",
      "          3       0.74      0.81      0.77       401\n",
      "\n",
      "avg / total       0.82      0.82      0.82      1257\n",
      "\n"
     ]
    }
   ],
   "source": [
    "print classification_report(y_test, preds)"
   ]
  },
  {
   "cell_type": "code",
   "execution_count": 53,
   "metadata": {},
   "outputs": [
    {
     "data": {
      "text/plain": [
       "(array([   1,    8,   10,   27,   29,   40,   41,   44,   45,   67,   71,\n",
       "          74,   77,   82,   83,   88,   89,   97,  100,  101,  105,  106,\n",
       "         125,  127,  132,  133,  138,  153,  156,  160,  170,  171,  172,\n",
       "         175,  187,  188,  189,  205,  212,  230,  239,  241,  251,  252,\n",
       "         253,  256,  257,  258,  264,  275,  279,  293,  295,  307,  313,\n",
       "         316,  331,  341,  342,  352,  359,  362,  367,  372,  375,  378,\n",
       "         381,  404,  410,  427,  431,  432,  436,  438,  447,  448,  451,\n",
       "         453,  459,  468,  469,  471,  487,  493,  494,  505,  511,  528,\n",
       "         534,  535,  537,  541,  544,  546,  563,  568,  571,  572,  576,\n",
       "         581,  585,  593,  596,  617,  642,  644,  653,  655,  657,  665,\n",
       "         667,  673,  676,  679,  681,  683,  695,  697,  706,  713,  716,\n",
       "         717,  721,  724,  728,  753,  755,  756,  762,  765,  766,  774,\n",
       "         776,  778,  788,  790,  793,  801,  804,  805,  814,  817,  825,\n",
       "         826,  830,  831,  836,  839,  843,  856,  858,  862,  864,  865,\n",
       "         866,  870,  872,  883,  887,  891,  894,  898,  906,  908,  922,\n",
       "         925,  929,  938,  943,  956,  958,  960,  961,  963,  964,  969,\n",
       "         970,  986,  987,  988,  989,  994,  999, 1004, 1009, 1013, 1015,\n",
       "        1020, 1023, 1028, 1040, 1042, 1055, 1061, 1076, 1082, 1083, 1084,\n",
       "        1091, 1097, 1098, 1100, 1108, 1109, 1111, 1116, 1118, 1122, 1125,\n",
       "        1129, 1132, 1138, 1147, 1150, 1153, 1159, 1162, 1165, 1167, 1170,\n",
       "        1185, 1191, 1193, 1203, 1215, 1216, 1246, 1247, 1248, 1252, 1253]),)"
      ]
     },
     "execution_count": 53,
     "metadata": {},
     "output_type": "execute_result"
    }
   ],
   "source": [
    "y_test = np.asarray(y_test)\n",
    "misclassified = np.where(y_test != preds)\n",
    "misclassified"
   ]
  },
  {
   "cell_type": "markdown",
   "metadata": {},
   "source": [
    "##### More models"
   ]
  },
  {
   "cell_type": "code",
   "execution_count": 54,
   "metadata": {},
   "outputs": [
    {
     "data": {
      "text/plain": [
       "0.77963404932378677"
      ]
     },
     "execution_count": 54,
     "metadata": {},
     "output_type": "execute_result"
    }
   ],
   "source": [
    "lr = LogisticRegression()\n",
    "lr.fit(X_train, y_train)\n",
    "lr.score(X_test, y_test)"
   ]
  },
  {
   "cell_type": "code",
   "execution_count": 55,
   "metadata": {},
   "outputs": [
    {
     "data": {
      "text/plain": [
       "0.75338106603023069"
      ]
     },
     "execution_count": 55,
     "metadata": {},
     "output_type": "execute_result"
    }
   ],
   "source": [
    "lsvm = LinearSVC()\n",
    "lsvm.fit(X_train, y_train)\n",
    "lsvm.score(X_test, y_test)"
   ]
  },
  {
   "cell_type": "code",
   "execution_count": 56,
   "metadata": {},
   "outputs": [
    {
     "data": {
      "text/plain": [
       "0.69928400954653935"
      ]
     },
     "execution_count": 56,
     "metadata": {},
     "output_type": "execute_result"
    }
   ],
   "source": [
    "gnb = GaussianNB()\n",
    "gnb.fit(X_train, y_train)\n",
    "gnb.score(X_test, y_test)"
   ]
  },
  {
   "cell_type": "code",
   "execution_count": 57,
   "metadata": {},
   "outputs": [
    {
     "data": {
      "text/plain": [
       "0.78599840891010342"
      ]
     },
     "execution_count": 57,
     "metadata": {},
     "output_type": "execute_result"
    }
   ],
   "source": [
    "bnb = BernoulliNB()\n",
    "bnb.fit(X_train, y_train)\n",
    "bnb.score(X_test, y_test)"
   ]
  },
  {
   "cell_type": "code",
   "execution_count": 58,
   "metadata": {
    "collapsed": true
   },
   "outputs": [],
   "source": [
    "ch2 = SelectKBest(chi2, k=600)\n",
    "X_train_ch = ch2.fit_transform(X_train, y_train)\n",
    "X_test_ch = ch2.transform(X_test)"
   ]
  },
  {
   "cell_type": "code",
   "execution_count": 59,
   "metadata": {},
   "outputs": [
    {
     "data": {
      "text/plain": [
       "0.74463007159904537"
      ]
     },
     "execution_count": 59,
     "metadata": {},
     "output_type": "execute_result"
    }
   ],
   "source": [
    "rf = RandomForestClassifier(n_estimators=100)\n",
    "rf.fit(X_train, y_train)\n",
    "rf.score(X_test, y_test)"
   ]
  },
  {
   "cell_type": "code",
   "execution_count": 165,
   "metadata": {},
   "outputs": [
    {
     "data": {
      "text/html": [
       "<div>\n",
       "<style>\n",
       "    .dataframe thead tr:only-child th {\n",
       "        text-align: right;\n",
       "    }\n",
       "\n",
       "    .dataframe thead th {\n",
       "        text-align: left;\n",
       "    }\n",
       "\n",
       "    .dataframe tbody tr th {\n",
       "        vertical-align: top;\n",
       "    }\n",
       "</style>\n",
       "<table border=\"1\" class=\"dataframe\">\n",
       "  <thead>\n",
       "    <tr style=\"text-align: right;\">\n",
       "      <th></th>\n",
       "      <th>importance</th>\n",
       "    </tr>\n",
       "  </thead>\n",
       "  <tbody>\n",
       "    <tr>\n",
       "      <th>thy</th>\n",
       "      <td>0.010204</td>\n",
       "    </tr>\n",
       "    <tr>\n",
       "      <th>lord</th>\n",
       "      <td>0.007781</td>\n",
       "    </tr>\n",
       "    <tr>\n",
       "      <th>wi</th>\n",
       "      <td>0.006500</td>\n",
       "    </tr>\n",
       "    <tr>\n",
       "      <th>and</th>\n",
       "      <td>0.006185</td>\n",
       "    </tr>\n",
       "    <tr>\n",
       "      <th>the</th>\n",
       "      <td>0.005760</td>\n",
       "    </tr>\n",
       "    <tr>\n",
       "      <th>of</th>\n",
       "      <td>0.005724</td>\n",
       "    </tr>\n",
       "    <tr>\n",
       "      <th>grace</th>\n",
       "      <td>0.004851</td>\n",
       "    </tr>\n",
       "    <tr>\n",
       "      <th>god</th>\n",
       "      <td>0.004496</td>\n",
       "    </tr>\n",
       "    <tr>\n",
       "      <th>ye</th>\n",
       "      <td>0.004438</td>\n",
       "    </tr>\n",
       "    <tr>\n",
       "      <th>you</th>\n",
       "      <td>0.004394</td>\n",
       "    </tr>\n",
       "    <tr>\n",
       "      <th>his</th>\n",
       "      <td>0.004333</td>\n",
       "    </tr>\n",
       "    <tr>\n",
       "      <th>in</th>\n",
       "      <td>0.004186</td>\n",
       "    </tr>\n",
       "    <tr>\n",
       "      <th>heavn</th>\n",
       "      <td>0.004003</td>\n",
       "    </tr>\n",
       "    <tr>\n",
       "      <th>shall</th>\n",
       "      <td>0.003918</td>\n",
       "    </tr>\n",
       "    <tr>\n",
       "      <th>th</th>\n",
       "      <td>0.003701</td>\n",
       "    </tr>\n",
       "    <tr>\n",
       "      <th>bonie</th>\n",
       "      <td>0.003412</td>\n",
       "    </tr>\n",
       "    <tr>\n",
       "      <th>my</th>\n",
       "      <td>0.003334</td>\n",
       "    </tr>\n",
       "    <tr>\n",
       "      <th>thou</th>\n",
       "      <td>0.003254</td>\n",
       "    </tr>\n",
       "    <tr>\n",
       "      <th>have</th>\n",
       "      <td>0.003253</td>\n",
       "    </tr>\n",
       "    <tr>\n",
       "      <th>it</th>\n",
       "      <td>0.003220</td>\n",
       "    </tr>\n",
       "  </tbody>\n",
       "</table>\n",
       "</div>"
      ],
      "text/plain": [
       "       importance\n",
       "thy      0.010204\n",
       "lord     0.007781\n",
       "wi       0.006500\n",
       "and      0.006185\n",
       "the      0.005760\n",
       "of       0.005724\n",
       "grace    0.004851\n",
       "god      0.004496\n",
       "ye       0.004438\n",
       "you      0.004394\n",
       "his      0.004333\n",
       "in       0.004186\n",
       "heavn    0.004003\n",
       "shall    0.003918\n",
       "th       0.003701\n",
       "bonie    0.003412\n",
       "my       0.003334\n",
       "thou     0.003254\n",
       "have     0.003253\n",
       "it       0.003220"
      ]
     },
     "execution_count": 165,
     "metadata": {},
     "output_type": "execute_result"
    }
   ],
   "source": [
    "feature_importances = pd.DataFrame(rf.feature_importances_,\n",
    "                                   index = X_train.columns,\n",
    "                                    columns=['importance']).sort_values('importance',\n",
    "                                                                        ascending=False)\n",
    "feature_importances.head(20)"
   ]
  },
  {
   "cell_type": "code",
   "execution_count": 60,
   "metadata": {},
   "outputs": [
    {
     "data": {
      "text/plain": [
       "0.73269689737470167"
      ]
     },
     "execution_count": 60,
     "metadata": {},
     "output_type": "execute_result"
    }
   ],
   "source": [
    "xg = XGBClassifier(objective='multi:softmax')\n",
    "xg.fit(X_train_ch, y_train)\n",
    "xg.score(X_test_ch, y_test)"
   ]
  },
  {
   "cell_type": "markdown",
   "metadata": {},
   "source": [
    "Running the Naive Bayes Classifier with stop words removed to look for interesting insights or relationships."
   ]
  },
  {
   "cell_type": "code",
   "execution_count": 62,
   "metadata": {
    "collapsed": true
   },
   "outputs": [],
   "source": [
    "X_train, X_test, y_train, y_test = train_test_split(X, y, random_state=42, test_size=0.3)"
   ]
  },
  {
   "cell_type": "code",
   "execution_count": 63,
   "metadata": {
    "collapsed": true
   },
   "outputs": [],
   "source": [
    "cvt_stop = CountVectorizer(stop_words='english')"
   ]
  },
  {
   "cell_type": "code",
   "execution_count": 64,
   "metadata": {
    "collapsed": true
   },
   "outputs": [],
   "source": [
    "X_train_stop = pd.DataFrame(cvt_stop.fit_transform(X_train).todense(), columns=cvt_stop.get_feature_names())\n",
    "X_test_stop = pd.DataFrame(cvt_stop.transform(X_test).todense(), columns=cvt_stop.get_feature_names())\n",
    "X_train_stop.rename(columns={'fit':'fit_feature'}, inplace=True);\n",
    "X_test_stop.rename(columns={'fit':'fit_feature'}, inplace=True);"
   ]
  },
  {
   "cell_type": "code",
   "execution_count": 65,
   "metadata": {},
   "outputs": [
    {
     "name": "stdout",
     "output_type": "stream",
     "text": [
      "(2930, 42183)\n",
      "(2930,)\n",
      "(1257, 42183)\n",
      "(1257,)\n"
     ]
    }
   ],
   "source": [
    "print X_train_stop.shape\n",
    "print y_train.shape\n",
    "print X_test_stop.shape\n",
    "print y_test.shape"
   ]
  },
  {
   "cell_type": "code",
   "execution_count": 66,
   "metadata": {},
   "outputs": [
    {
     "data": {
      "text/plain": [
       "0.80509148766905325"
      ]
     },
     "execution_count": 66,
     "metadata": {},
     "output_type": "execute_result"
    }
   ],
   "source": [
    "nb_stop = MultinomialNB(alpha=0.4)\n",
    "nb_stop.fit(X_train_stop, y_train)\n",
    "nb_stop.score(X_test_stop, y_test)"
   ]
  },
  {
   "cell_type": "code",
   "execution_count": 67,
   "metadata": {
    "collapsed": true
   },
   "outputs": [],
   "source": [
    "log_prob = pd.DataFrame(nb_stop.feature_log_prob_, columns=X_train_stop.columns, index=['18th', '19th', '20th'])\n",
    "prob = np.exp(log_prob)"
   ]
  },
  {
   "cell_type": "code",
   "execution_count": 68,
   "metadata": {},
   "outputs": [
    {
     "data": {
      "text/html": [
       "<div>\n",
       "<style>\n",
       "    .dataframe thead tr:only-child th {\n",
       "        text-align: right;\n",
       "    }\n",
       "\n",
       "    .dataframe thead th {\n",
       "        text-align: left;\n",
       "    }\n",
       "\n",
       "    .dataframe tbody tr th {\n",
       "        vertical-align: top;\n",
       "    }\n",
       "</style>\n",
       "<table border=\"1\" class=\"dataframe\">\n",
       "  <thead>\n",
       "    <tr style=\"text-align: right;\">\n",
       "      <th></th>\n",
       "      <th>aabout</th>\n",
       "      <th>aaraaf</th>\n",
       "      <th>aaron</th>\n",
       "      <th>aarows</th>\n",
       "      <th>aaylum</th>\n",
       "      <th>aback</th>\n",
       "      <th>abacuck</th>\n",
       "      <th>aban</th>\n",
       "      <th>abandon</th>\n",
       "      <th>abandond</th>\n",
       "      <th>...</th>\n",
       "      <th>zu</th>\n",
       "      <th>zuar</th>\n",
       "      <th>zuka</th>\n",
       "      <th>zummer</th>\n",
       "      <th>zuph</th>\n",
       "      <th>zur</th>\n",
       "      <th>zurishaddai</th>\n",
       "      <th>zuvor</th>\n",
       "      <th>zwei</th>\n",
       "      <th>zy</th>\n",
       "    </tr>\n",
       "  </thead>\n",
       "  <tbody>\n",
       "    <tr>\n",
       "      <th>18th</th>\n",
       "      <td>0.000003</td>\n",
       "      <td>0.000003</td>\n",
       "      <td>0.000043</td>\n",
       "      <td>0.000003</td>\n",
       "      <td>0.000003</td>\n",
       "      <td>0.000016</td>\n",
       "      <td>0.000003</td>\n",
       "      <td>0.000003</td>\n",
       "      <td>0.000003</td>\n",
       "      <td>0.000016</td>\n",
       "      <td>...</td>\n",
       "      <td>0.000003</td>\n",
       "      <td>0.000009</td>\n",
       "      <td>0.000003</td>\n",
       "      <td>0.000003</td>\n",
       "      <td>0.000009</td>\n",
       "      <td>0.000003</td>\n",
       "      <td>0.000009</td>\n",
       "      <td>0.000003</td>\n",
       "      <td>0.000003</td>\n",
       "      <td>0.000003</td>\n",
       "    </tr>\n",
       "    <tr>\n",
       "      <th>19th</th>\n",
       "      <td>0.000003</td>\n",
       "      <td>0.000010</td>\n",
       "      <td>0.000003</td>\n",
       "      <td>0.000003</td>\n",
       "      <td>0.000003</td>\n",
       "      <td>0.000003</td>\n",
       "      <td>0.000003</td>\n",
       "      <td>0.000003</td>\n",
       "      <td>0.000025</td>\n",
       "      <td>0.000003</td>\n",
       "      <td>...</td>\n",
       "      <td>0.000003</td>\n",
       "      <td>0.000003</td>\n",
       "      <td>0.000003</td>\n",
       "      <td>0.000010</td>\n",
       "      <td>0.000003</td>\n",
       "      <td>0.000003</td>\n",
       "      <td>0.000003</td>\n",
       "      <td>0.000003</td>\n",
       "      <td>0.000003</td>\n",
       "      <td>0.000010</td>\n",
       "    </tr>\n",
       "    <tr>\n",
       "      <th>20th</th>\n",
       "      <td>0.000011</td>\n",
       "      <td>0.000003</td>\n",
       "      <td>0.000011</td>\n",
       "      <td>0.000011</td>\n",
       "      <td>0.000011</td>\n",
       "      <td>0.000019</td>\n",
       "      <td>0.000011</td>\n",
       "      <td>0.000011</td>\n",
       "      <td>0.000019</td>\n",
       "      <td>0.000003</td>\n",
       "      <td>...</td>\n",
       "      <td>0.000011</td>\n",
       "      <td>0.000003</td>\n",
       "      <td>0.000011</td>\n",
       "      <td>0.000011</td>\n",
       "      <td>0.000003</td>\n",
       "      <td>0.000011</td>\n",
       "      <td>0.000003</td>\n",
       "      <td>0.000011</td>\n",
       "      <td>0.000011</td>\n",
       "      <td>0.000003</td>\n",
       "    </tr>\n",
       "  </tbody>\n",
       "</table>\n",
       "<p>3 rows × 42183 columns</p>\n",
       "</div>"
      ],
      "text/plain": [
       "        aabout    aaraaf     aaron    aarows    aaylum     aback   abacuck  \\\n",
       "18th  0.000003  0.000003  0.000043  0.000003  0.000003  0.000016  0.000003   \n",
       "19th  0.000003  0.000010  0.000003  0.000003  0.000003  0.000003  0.000003   \n",
       "20th  0.000011  0.000003  0.000011  0.000011  0.000011  0.000019  0.000011   \n",
       "\n",
       "          aban   abandon  abandond    ...           zu      zuar      zuka  \\\n",
       "18th  0.000003  0.000003  0.000016    ...     0.000003  0.000009  0.000003   \n",
       "19th  0.000003  0.000025  0.000003    ...     0.000003  0.000003  0.000003   \n",
       "20th  0.000011  0.000019  0.000003    ...     0.000011  0.000003  0.000011   \n",
       "\n",
       "        zummer      zuph       zur  zurishaddai     zuvor      zwei        zy  \n",
       "18th  0.000003  0.000009  0.000003     0.000009  0.000003  0.000003  0.000003  \n",
       "19th  0.000010  0.000003  0.000003     0.000003  0.000003  0.000003  0.000010  \n",
       "20th  0.000011  0.000003  0.000011     0.000003  0.000011  0.000011  0.000003  \n",
       "\n",
       "[3 rows x 42183 columns]"
      ]
     },
     "execution_count": 68,
     "metadata": {},
     "output_type": "execute_result"
    }
   ],
   "source": [
    "prob"
   ]
  },
  {
   "cell_type": "code",
   "execution_count": 69,
   "metadata": {
    "collapsed": true
   },
   "outputs": [],
   "source": [
    "eighteen = prob.iloc[0].nlargest(11).to_frame()\n",
    "nineteen = prob.iloc[1].nlargest(11).to_frame()\n",
    "twenty = prob.iloc[2].nlargest(11).to_frame()"
   ]
  },
  {
   "cell_type": "code",
   "execution_count": 70,
   "metadata": {},
   "outputs": [
    {
     "data": {
      "text/html": [
       "<div>\n",
       "<style>\n",
       "    .dataframe thead tr:only-child th {\n",
       "        text-align: right;\n",
       "    }\n",
       "\n",
       "    .dataframe thead th {\n",
       "        text-align: left;\n",
       "    }\n",
       "\n",
       "    .dataframe tbody tr th {\n",
       "        vertical-align: top;\n",
       "    }\n",
       "</style>\n",
       "<table border=\"1\" class=\"dataframe\">\n",
       "  <thead>\n",
       "    <tr style=\"text-align: right;\">\n",
       "      <th></th>\n",
       "      <th>18th</th>\n",
       "      <th>19th</th>\n",
       "      <th>20th</th>\n",
       "    </tr>\n",
       "  </thead>\n",
       "  <tbody>\n",
       "    <tr>\n",
       "      <th>day</th>\n",
       "      <td>NaN</td>\n",
       "      <td>0.002937</td>\n",
       "      <td>0.002834</td>\n",
       "    </tr>\n",
       "    <tr>\n",
       "      <th>eyes</th>\n",
       "      <td>NaN</td>\n",
       "      <td>NaN</td>\n",
       "      <td>0.002969</td>\n",
       "    </tr>\n",
       "    <tr>\n",
       "      <th>god</th>\n",
       "      <td>0.005050</td>\n",
       "      <td>NaN</td>\n",
       "      <td>NaN</td>\n",
       "    </tr>\n",
       "    <tr>\n",
       "      <th>heart</th>\n",
       "      <td>NaN</td>\n",
       "      <td>0.002825</td>\n",
       "      <td>0.002565</td>\n",
       "    </tr>\n",
       "    <tr>\n",
       "      <th>know</th>\n",
       "      <td>NaN</td>\n",
       "      <td>NaN</td>\n",
       "      <td>0.002501</td>\n",
       "    </tr>\n",
       "    <tr>\n",
       "      <th>let</th>\n",
       "      <td>0.004051</td>\n",
       "      <td>NaN</td>\n",
       "      <td>NaN</td>\n",
       "    </tr>\n",
       "    <tr>\n",
       "      <th>life</th>\n",
       "      <td>NaN</td>\n",
       "      <td>0.002676</td>\n",
       "      <td>NaN</td>\n",
       "    </tr>\n",
       "    <tr>\n",
       "      <th>like</th>\n",
       "      <td>0.003586</td>\n",
       "      <td>0.004788</td>\n",
       "      <td>0.006553</td>\n",
       "    </tr>\n",
       "    <tr>\n",
       "      <th>little</th>\n",
       "      <td>NaN</td>\n",
       "      <td>0.002810</td>\n",
       "      <td>0.002779</td>\n",
       "    </tr>\n",
       "    <tr>\n",
       "      <th>lord</th>\n",
       "      <td>0.003626</td>\n",
       "      <td>NaN</td>\n",
       "      <td>NaN</td>\n",
       "    </tr>\n",
       "    <tr>\n",
       "      <th>love</th>\n",
       "      <td>0.003626</td>\n",
       "      <td>0.004154</td>\n",
       "      <td>0.003508</td>\n",
       "    </tr>\n",
       "    <tr>\n",
       "      <th>man</th>\n",
       "      <td>0.003356</td>\n",
       "      <td>NaN</td>\n",
       "      <td>0.003484</td>\n",
       "    </tr>\n",
       "    <tr>\n",
       "      <th>night</th>\n",
       "      <td>NaN</td>\n",
       "      <td>NaN</td>\n",
       "      <td>0.002842</td>\n",
       "    </tr>\n",
       "    <tr>\n",
       "      <th>old</th>\n",
       "      <td>NaN</td>\n",
       "      <td>NaN</td>\n",
       "      <td>0.003389</td>\n",
       "    </tr>\n",
       "    <tr>\n",
       "      <th>said</th>\n",
       "      <td>NaN</td>\n",
       "      <td>NaN</td>\n",
       "      <td>0.002580</td>\n",
       "    </tr>\n",
       "    <tr>\n",
       "      <th>shall</th>\n",
       "      <td>0.005759</td>\n",
       "      <td>0.004258</td>\n",
       "      <td>NaN</td>\n",
       "    </tr>\n",
       "    <tr>\n",
       "      <th>soul</th>\n",
       "      <td>NaN</td>\n",
       "      <td>0.002511</td>\n",
       "      <td>NaN</td>\n",
       "    </tr>\n",
       "    <tr>\n",
       "      <th>thee</th>\n",
       "      <td>NaN</td>\n",
       "      <td>0.004430</td>\n",
       "      <td>NaN</td>\n",
       "    </tr>\n",
       "    <tr>\n",
       "      <th>thou</th>\n",
       "      <td>0.004315</td>\n",
       "      <td>0.005669</td>\n",
       "      <td>NaN</td>\n",
       "    </tr>\n",
       "    <tr>\n",
       "      <th>thy</th>\n",
       "      <td>0.012041</td>\n",
       "      <td>0.005893</td>\n",
       "      <td>NaN</td>\n",
       "    </tr>\n",
       "    <tr>\n",
       "      <th>wi</th>\n",
       "      <td>0.003748</td>\n",
       "      <td>NaN</td>\n",
       "      <td>NaN</td>\n",
       "    </tr>\n",
       "    <tr>\n",
       "      <th>ye</th>\n",
       "      <td>0.004369</td>\n",
       "      <td>NaN</td>\n",
       "      <td>NaN</td>\n",
       "    </tr>\n",
       "  </tbody>\n",
       "</table>\n",
       "</div>"
      ],
      "text/plain": [
       "            18th      19th      20th\n",
       "day          NaN  0.002937  0.002834\n",
       "eyes         NaN       NaN  0.002969\n",
       "god     0.005050       NaN       NaN\n",
       "heart        NaN  0.002825  0.002565\n",
       "know         NaN       NaN  0.002501\n",
       "let     0.004051       NaN       NaN\n",
       "life         NaN  0.002676       NaN\n",
       "like    0.003586  0.004788  0.006553\n",
       "little       NaN  0.002810  0.002779\n",
       "lord    0.003626       NaN       NaN\n",
       "love    0.003626  0.004154  0.003508\n",
       "man     0.003356       NaN  0.003484\n",
       "night        NaN       NaN  0.002842\n",
       "old          NaN       NaN  0.003389\n",
       "said         NaN       NaN  0.002580\n",
       "shall   0.005759  0.004258       NaN\n",
       "soul         NaN  0.002511       NaN\n",
       "thee         NaN  0.004430       NaN\n",
       "thou    0.004315  0.005669       NaN\n",
       "thy     0.012041  0.005893       NaN\n",
       "wi      0.003748       NaN       NaN\n",
       "ye      0.004369       NaN       NaN"
      ]
     },
     "execution_count": 70,
     "metadata": {},
     "output_type": "execute_result"
    }
   ],
   "source": [
    "common_words_stop = eighteen.merge(nineteen, left_index=True, right_index=True, how='outer').merge(twenty, left_index=True, right_index=True, how='outer')\n",
    "common_words_stop"
   ]
  },
  {
   "cell_type": "code",
   "execution_count": 71,
   "metadata": {},
   "outputs": [
    {
     "data": {
      "text/html": [
       "<div>\n",
       "<style>\n",
       "    .dataframe thead tr:only-child th {\n",
       "        text-align: right;\n",
       "    }\n",
       "\n",
       "    .dataframe thead th {\n",
       "        text-align: left;\n",
       "    }\n",
       "\n",
       "    .dataframe tbody tr th {\n",
       "        vertical-align: top;\n",
       "    }\n",
       "</style>\n",
       "<table border=\"1\" class=\"dataframe\">\n",
       "  <thead>\n",
       "    <tr style=\"text-align: right;\">\n",
       "      <th></th>\n",
       "      <th>18th</th>\n",
       "    </tr>\n",
       "  </thead>\n",
       "  <tbody>\n",
       "    <tr>\n",
       "      <th>thy</th>\n",
       "      <td>0.012041</td>\n",
       "    </tr>\n",
       "    <tr>\n",
       "      <th>shall</th>\n",
       "      <td>0.005759</td>\n",
       "    </tr>\n",
       "    <tr>\n",
       "      <th>god</th>\n",
       "      <td>0.005050</td>\n",
       "    </tr>\n",
       "    <tr>\n",
       "      <th>ye</th>\n",
       "      <td>0.004369</td>\n",
       "    </tr>\n",
       "    <tr>\n",
       "      <th>thou</th>\n",
       "      <td>0.004315</td>\n",
       "    </tr>\n",
       "    <tr>\n",
       "      <th>let</th>\n",
       "      <td>0.004051</td>\n",
       "    </tr>\n",
       "    <tr>\n",
       "      <th>wi</th>\n",
       "      <td>0.003748</td>\n",
       "    </tr>\n",
       "    <tr>\n",
       "      <th>lord</th>\n",
       "      <td>0.003626</td>\n",
       "    </tr>\n",
       "    <tr>\n",
       "      <th>love</th>\n",
       "      <td>0.003626</td>\n",
       "    </tr>\n",
       "    <tr>\n",
       "      <th>like</th>\n",
       "      <td>0.003586</td>\n",
       "    </tr>\n",
       "    <tr>\n",
       "      <th>man</th>\n",
       "      <td>0.003356</td>\n",
       "    </tr>\n",
       "    <tr>\n",
       "      <th>thee</th>\n",
       "      <td>0.003107</td>\n",
       "    </tr>\n",
       "    <tr>\n",
       "      <th>heart</th>\n",
       "      <td>0.002884</td>\n",
       "    </tr>\n",
       "    <tr>\n",
       "      <th>day</th>\n",
       "      <td>0.002817</td>\n",
       "    </tr>\n",
       "    <tr>\n",
       "      <th>grace</th>\n",
       "      <td>0.002439</td>\n",
       "    </tr>\n",
       "    <tr>\n",
       "      <th>oer</th>\n",
       "      <td>0.002182</td>\n",
       "    </tr>\n",
       "    <tr>\n",
       "      <th>soul</th>\n",
       "      <td>0.002061</td>\n",
       "    </tr>\n",
       "    <tr>\n",
       "      <th>th</th>\n",
       "      <td>0.001973</td>\n",
       "    </tr>\n",
       "    <tr>\n",
       "      <th>life</th>\n",
       "      <td>0.001872</td>\n",
       "    </tr>\n",
       "    <tr>\n",
       "      <th>eyes</th>\n",
       "      <td>0.001852</td>\n",
       "    </tr>\n",
       "  </tbody>\n",
       "</table>\n",
       "</div>"
      ],
      "text/plain": [
       "           18th\n",
       "thy    0.012041\n",
       "shall  0.005759\n",
       "god    0.005050\n",
       "ye     0.004369\n",
       "thou   0.004315\n",
       "let    0.004051\n",
       "wi     0.003748\n",
       "lord   0.003626\n",
       "love   0.003626\n",
       "like   0.003586\n",
       "man    0.003356\n",
       "thee   0.003107\n",
       "heart  0.002884\n",
       "day    0.002817\n",
       "grace  0.002439\n",
       "oer    0.002182\n",
       "soul   0.002061\n",
       "th     0.001973\n",
       "life   0.001872\n",
       "eyes   0.001852"
      ]
     },
     "execution_count": 71,
     "metadata": {},
     "output_type": "execute_result"
    }
   ],
   "source": [
    "prob.iloc[0].nlargest(20).to_frame()"
   ]
  },
  {
   "cell_type": "code",
   "execution_count": 72,
   "metadata": {},
   "outputs": [
    {
     "data": {
      "text/html": [
       "<div>\n",
       "<style>\n",
       "    .dataframe thead tr:only-child th {\n",
       "        text-align: right;\n",
       "    }\n",
       "\n",
       "    .dataframe thead th {\n",
       "        text-align: left;\n",
       "    }\n",
       "\n",
       "    .dataframe tbody tr th {\n",
       "        vertical-align: top;\n",
       "    }\n",
       "</style>\n",
       "<table border=\"1\" class=\"dataframe\">\n",
       "  <thead>\n",
       "    <tr style=\"text-align: right;\">\n",
       "      <th></th>\n",
       "      <th>19th</th>\n",
       "    </tr>\n",
       "  </thead>\n",
       "  <tbody>\n",
       "    <tr>\n",
       "      <th>thy</th>\n",
       "      <td>0.005893</td>\n",
       "    </tr>\n",
       "    <tr>\n",
       "      <th>thou</th>\n",
       "      <td>0.005669</td>\n",
       "    </tr>\n",
       "    <tr>\n",
       "      <th>like</th>\n",
       "      <td>0.004788</td>\n",
       "    </tr>\n",
       "    <tr>\n",
       "      <th>thee</th>\n",
       "      <td>0.004430</td>\n",
       "    </tr>\n",
       "    <tr>\n",
       "      <th>shall</th>\n",
       "      <td>0.004258</td>\n",
       "    </tr>\n",
       "    <tr>\n",
       "      <th>love</th>\n",
       "      <td>0.004154</td>\n",
       "    </tr>\n",
       "    <tr>\n",
       "      <th>day</th>\n",
       "      <td>0.002937</td>\n",
       "    </tr>\n",
       "    <tr>\n",
       "      <th>heart</th>\n",
       "      <td>0.002825</td>\n",
       "    </tr>\n",
       "    <tr>\n",
       "      <th>little</th>\n",
       "      <td>0.002810</td>\n",
       "    </tr>\n",
       "    <tr>\n",
       "      <th>life</th>\n",
       "      <td>0.002676</td>\n",
       "    </tr>\n",
       "    <tr>\n",
       "      <th>soul</th>\n",
       "      <td>0.002511</td>\n",
       "    </tr>\n",
       "    <tr>\n",
       "      <th>away</th>\n",
       "      <td>0.002384</td>\n",
       "    </tr>\n",
       "    <tr>\n",
       "      <th>eyes</th>\n",
       "      <td>0.002377</td>\n",
       "    </tr>\n",
       "    <tr>\n",
       "      <th>man</th>\n",
       "      <td>0.002377</td>\n",
       "    </tr>\n",
       "    <tr>\n",
       "      <th>night</th>\n",
       "      <td>0.002370</td>\n",
       "    </tr>\n",
       "    <tr>\n",
       "      <th>old</th>\n",
       "      <td>0.002370</td>\n",
       "    </tr>\n",
       "    <tr>\n",
       "      <th>sweet</th>\n",
       "      <td>0.002347</td>\n",
       "    </tr>\n",
       "    <tr>\n",
       "      <th>long</th>\n",
       "      <td>0.002280</td>\n",
       "    </tr>\n",
       "    <tr>\n",
       "      <th>light</th>\n",
       "      <td>0.002272</td>\n",
       "    </tr>\n",
       "    <tr>\n",
       "      <th>oer</th>\n",
       "      <td>0.002123</td>\n",
       "    </tr>\n",
       "  </tbody>\n",
       "</table>\n",
       "</div>"
      ],
      "text/plain": [
       "            19th\n",
       "thy     0.005893\n",
       "thou    0.005669\n",
       "like    0.004788\n",
       "thee    0.004430\n",
       "shall   0.004258\n",
       "love    0.004154\n",
       "day     0.002937\n",
       "heart   0.002825\n",
       "little  0.002810\n",
       "life    0.002676\n",
       "soul    0.002511\n",
       "away    0.002384\n",
       "eyes    0.002377\n",
       "man     0.002377\n",
       "night   0.002370\n",
       "old     0.002370\n",
       "sweet   0.002347\n",
       "long    0.002280\n",
       "light   0.002272\n",
       "oer     0.002123"
      ]
     },
     "execution_count": 72,
     "metadata": {},
     "output_type": "execute_result"
    }
   ],
   "source": [
    "prob.iloc[1].nlargest(20).to_frame()"
   ]
  },
  {
   "cell_type": "code",
   "execution_count": 73,
   "metadata": {},
   "outputs": [
    {
     "data": {
      "text/html": [
       "<div>\n",
       "<style>\n",
       "    .dataframe thead tr:only-child th {\n",
       "        text-align: right;\n",
       "    }\n",
       "\n",
       "    .dataframe thead th {\n",
       "        text-align: left;\n",
       "    }\n",
       "\n",
       "    .dataframe tbody tr th {\n",
       "        vertical-align: top;\n",
       "    }\n",
       "</style>\n",
       "<table border=\"1\" class=\"dataframe\">\n",
       "  <thead>\n",
       "    <tr style=\"text-align: right;\">\n",
       "      <th></th>\n",
       "      <th>20th</th>\n",
       "    </tr>\n",
       "  </thead>\n",
       "  <tbody>\n",
       "    <tr>\n",
       "      <th>like</th>\n",
       "      <td>0.006553</td>\n",
       "    </tr>\n",
       "    <tr>\n",
       "      <th>love</th>\n",
       "      <td>0.003508</td>\n",
       "    </tr>\n",
       "    <tr>\n",
       "      <th>man</th>\n",
       "      <td>0.003484</td>\n",
       "    </tr>\n",
       "    <tr>\n",
       "      <th>old</th>\n",
       "      <td>0.003389</td>\n",
       "    </tr>\n",
       "    <tr>\n",
       "      <th>eyes</th>\n",
       "      <td>0.002969</td>\n",
       "    </tr>\n",
       "    <tr>\n",
       "      <th>night</th>\n",
       "      <td>0.002842</td>\n",
       "    </tr>\n",
       "    <tr>\n",
       "      <th>day</th>\n",
       "      <td>0.002834</td>\n",
       "    </tr>\n",
       "    <tr>\n",
       "      <th>little</th>\n",
       "      <td>0.002779</td>\n",
       "    </tr>\n",
       "    <tr>\n",
       "      <th>said</th>\n",
       "      <td>0.002580</td>\n",
       "    </tr>\n",
       "    <tr>\n",
       "      <th>heart</th>\n",
       "      <td>0.002565</td>\n",
       "    </tr>\n",
       "    <tr>\n",
       "      <th>know</th>\n",
       "      <td>0.002501</td>\n",
       "    </tr>\n",
       "    <tr>\n",
       "      <th>light</th>\n",
       "      <td>0.002461</td>\n",
       "    </tr>\n",
       "    <tr>\n",
       "      <th>life</th>\n",
       "      <td>0.002438</td>\n",
       "    </tr>\n",
       "    <tr>\n",
       "      <th>come</th>\n",
       "      <td>0.002374</td>\n",
       "    </tr>\n",
       "    <tr>\n",
       "      <th>men</th>\n",
       "      <td>0.002350</td>\n",
       "    </tr>\n",
       "    <tr>\n",
       "      <th>long</th>\n",
       "      <td>0.002342</td>\n",
       "    </tr>\n",
       "    <tr>\n",
       "      <th>time</th>\n",
       "      <td>0.002342</td>\n",
       "    </tr>\n",
       "    <tr>\n",
       "      <th>shall</th>\n",
       "      <td>0.002239</td>\n",
       "    </tr>\n",
       "    <tr>\n",
       "      <th>away</th>\n",
       "      <td>0.002231</td>\n",
       "    </tr>\n",
       "    <tr>\n",
       "      <th>say</th>\n",
       "      <td>0.002033</td>\n",
       "    </tr>\n",
       "  </tbody>\n",
       "</table>\n",
       "</div>"
      ],
      "text/plain": [
       "            20th\n",
       "like    0.006553\n",
       "love    0.003508\n",
       "man     0.003484\n",
       "old     0.003389\n",
       "eyes    0.002969\n",
       "night   0.002842\n",
       "day     0.002834\n",
       "little  0.002779\n",
       "said    0.002580\n",
       "heart   0.002565\n",
       "know    0.002501\n",
       "light   0.002461\n",
       "life    0.002438\n",
       "come    0.002374\n",
       "men     0.002350\n",
       "long    0.002342\n",
       "time    0.002342\n",
       "shall   0.002239\n",
       "away    0.002231\n",
       "say     0.002033"
      ]
     },
     "execution_count": 73,
     "metadata": {},
     "output_type": "execute_result"
    }
   ],
   "source": [
    "prob.iloc[2].nlargest(20).to_frame()"
   ]
  }
 ],
 "metadata": {
  "kernelspec": {
   "display_name": "Python 2",
   "language": "python",
   "name": "python2"
  },
  "language_info": {
   "codemirror_mode": {
    "name": "ipython",
    "version": 2
   },
   "file_extension": ".py",
   "mimetype": "text/x-python",
   "name": "python",
   "nbconvert_exporter": "python",
   "pygments_lexer": "ipython2",
   "version": "2.7.13"
  },
  "varInspector": {
   "cols": {
    "lenName": 16,
    "lenType": 16,
    "lenVar": 40
   },
   "kernels_config": {
    "python": {
     "delete_cmd_postfix": "",
     "delete_cmd_prefix": "del ",
     "library": "var_list.py",
     "varRefreshCmd": "print(var_dic_list())"
    },
    "r": {
     "delete_cmd_postfix": ") ",
     "delete_cmd_prefix": "rm(",
     "library": "var_list.r",
     "varRefreshCmd": "cat(var_dic_list()) "
    }
   },
   "types_to_exclude": [
    "module",
    "function",
    "builtin_function_or_method",
    "instance",
    "_Feature"
   ],
   "window_display": false
  }
 },
 "nbformat": 4,
 "nbformat_minor": 2
}
